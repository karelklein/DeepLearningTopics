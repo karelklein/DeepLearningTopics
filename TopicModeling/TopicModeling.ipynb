{
 "cells": [
  {
   "cell_type": "markdown",
   "metadata": {},
   "source": [
    "## Part 1"
   ]
  },
  {
   "cell_type": "code",
   "execution_count": 23,
   "metadata": {
    "collapsed": false
   },
   "outputs": [
    {
     "name": "stdout",
     "output_type": "stream",
     "text": [
      "Read 25000 labeled train reviews, 25000 labeled test reviews, and 50000 unlabeled reviews\n",
      "\n"
     ]
    }
   ],
   "source": [
    "import pandas as pd\n",
    "\n",
    "# Read data from files \n",
    "train = pd.read_csv( \"labeledTrainData.tsv\", header=0, \n",
    " delimiter=\"\\t\", quoting=3 )\n",
    "test = pd.read_csv( \"testData.tsv\", header=0, delimiter=\"\\t\", quoting=3 )\n",
    "unlabeled_train = pd.read_csv( \"unlabeledTrainData.tsv\", header=0, \n",
    " delimiter=\"\\t\", quoting=3 )\n",
    "\n",
    "# Verify the number of reviews that were read (100,000 in total)\n",
    "print \"Read %d labeled train reviews, %d labeled test reviews, \" \\\n",
    " \"and %d unlabeled reviews\\n\" % (train[\"review\"].size,  \n",
    " test[\"review\"].size, unlabeled_train[\"review\"].size )"
   ]
  },
  {
   "cell_type": "code",
   "execution_count": 24,
   "metadata": {
    "collapsed": true
   },
   "outputs": [],
   "source": [
    "# Import various modules for string cleaning\n",
    "from bs4 import BeautifulSoup\n",
    "import re\n",
    "from nltk.corpus import stopwords\n",
    "\n",
    "def review_to_wordlist( review, remove_stopwords=False ):\n",
    "    # Function to convert a document to a sequence of words,\n",
    "    # optionally removing stop words.  Returns a list of words.\n",
    "    #\n",
    "    # 1. Remove HTML\n",
    "    review_text = BeautifulSoup(review).get_text()\n",
    "    #  \n",
    "    # 2. Remove non-letters\n",
    "    review_text = re.sub(\"[^a-zA-Z]\",\" \", review_text)\n",
    "    #\n",
    "    # 3. Convert words to lower case and split them\n",
    "    words = review_text.lower().split()\n",
    "    #\n",
    "    # 4. Optionally remove stop words (false by default)\n",
    "    if remove_stopwords:\n",
    "        stops = set(stopwords.words(\"english\"))\n",
    "        words = [w for w in words if not w in stops]\n",
    "    #\n",
    "    # 5. Return a list of words\n",
    "    return(words)"
   ]
  },
  {
   "cell_type": "code",
   "execution_count": 28,
   "metadata": {
    "collapsed": false
   },
   "outputs": [
    {
     "name": "stdout",
     "output_type": "stream",
     "text": [
      "showing info https://raw.githubusercontent.com/nltk/nltk_data/gh-pages/index.xml\n"
     ]
    }
   ],
   "source": [
    "# Download the punkt tokenizer for sentence splitting\n",
    "import nltk.data\n",
    "nltk.download()   \n",
    "\n",
    "# Load the punkt tokenizer\n",
    "tokenizer = nltk.data.load('tokenizers/punkt/english.pickle')\n",
    "\n",
    "# Define a function to split a review into parsed sentences\n",
    "def review_to_sentences( review, tokenizer, remove_stopwords=False ):\n",
    "    # Function to split a review into parsed sentences. Returns a \n",
    "    # list of sentences, where each sentence is a list of words\n",
    "    #\n",
    "    # 1. Use the NLTK tokenizer to split the paragraph into sentences\n",
    "    raw_sentences = tokenizer.tokenize(review.strip())\n",
    "    #\n",
    "    # 2. Loop over each sentence\n",
    "    sentences = []\n",
    "    for raw_sentence in raw_sentences:\n",
    "        # If a sentence is empty, skip it\n",
    "        if len(raw_sentence) > 0:\n",
    "            # Otherwise, call review_to_wordlist to get a list of words\n",
    "            sentences.append( review_to_wordlist( raw_sentence, \\\n",
    "              remove_stopwords ))\n",
    "    #\n",
    "    # Return the list of sentences (each sentence is a list of words,\n",
    "    # so this returns a list of lists\n",
    "    return sentences"
   ]
  },
  {
   "cell_type": "code",
   "execution_count": 29,
   "metadata": {
    "collapsed": false,
    "scrolled": true
   },
   "outputs": [
    {
     "name": "stdout",
     "output_type": "stream",
     "text": [
      "Parsing sentences from training set\n"
     ]
    },
    {
     "name": "stderr",
     "output_type": "stream",
     "text": [
      "/Users/Karel/anaconda/lib/python2.7/site-packages/bs4/__init__.py:219: UserWarning: \".\" looks like a filename, not markup. You shouldprobably open this file and pass the filehandle intoBeautiful Soup.\n",
      "  'Beautiful Soup.' % markup)\n",
      "/Users/Karel/anaconda/lib/python2.7/site-packages/bs4/__init__.py:282: UserWarning: \"http://www.happierabroad.com\"\" looks like a URL. Beautiful Soup is not an HTTP client. You should probably use an HTTP client like requests to get the document behind the URL, and feed that document to Beautiful Soup.\n",
      "  ' that document to Beautiful Soup.' % decoded_markup\n"
     ]
    },
    {
     "name": "stdout",
     "output_type": "stream",
     "text": [
      "Parsing sentences from unlabeled set\n"
     ]
    },
    {
     "name": "stderr",
     "output_type": "stream",
     "text": [
      "/Users/Karel/anaconda/lib/python2.7/site-packages/bs4/__init__.py:282: UserWarning: \"http://www.archive.org/details/LovefromaStranger\"\" looks like a URL. Beautiful Soup is not an HTTP client. You should probably use an HTTP client like requests to get the document behind the URL, and feed that document to Beautiful Soup.\n",
      "  ' that document to Beautiful Soup.' % decoded_markup\n",
      "/Users/Karel/anaconda/lib/python2.7/site-packages/bs4/__init__.py:282: UserWarning: \"http://www.loosechangeguide.com/LooseChangeGuide.html\"\" looks like a URL. Beautiful Soup is not an HTTP client. You should probably use an HTTP client like requests to get the document behind the URL, and feed that document to Beautiful Soup.\n",
      "  ' that document to Beautiful Soup.' % decoded_markup\n",
      "/Users/Karel/anaconda/lib/python2.7/site-packages/bs4/__init__.py:282: UserWarning: \"http://www.msnbc.msn.com/id/4972055/site/newsweek/\"\" looks like a URL. Beautiful Soup is not an HTTP client. You should probably use an HTTP client like requests to get the document behind the URL, and feed that document to Beautiful Soup.\n",
      "  ' that document to Beautiful Soup.' % decoded_markup\n",
      "/Users/Karel/anaconda/lib/python2.7/site-packages/bs4/__init__.py:219: UserWarning: \"..\" looks like a filename, not markup. You shouldprobably open this file and pass the filehandle intoBeautiful Soup.\n",
      "  'Beautiful Soup.' % markup)\n",
      "/Users/Karel/anaconda/lib/python2.7/site-packages/bs4/__init__.py:282: UserWarning: \"http://www.youtube.com/watch?v=a0KSqelmgN8\"\" looks like a URL. Beautiful Soup is not an HTTP client. You should probably use an HTTP client like requests to get the document behind the URL, and feed that document to Beautiful Soup.\n",
      "  ' that document to Beautiful Soup.' % decoded_markup\n",
      "/Users/Karel/anaconda/lib/python2.7/site-packages/bs4/__init__.py:282: UserWarning: \"http://jake-weird.blogspot.com/2007/08/beneath.html\"\" looks like a URL. Beautiful Soup is not an HTTP client. You should probably use an HTTP client like requests to get the document behind the URL, and feed that document to Beautiful Soup.\n",
      "  ' that document to Beautiful Soup.' % decoded_markup\n"
     ]
    }
   ],
   "source": [
    "sentences = []  # Initialize an empty list of sentences\n",
    "\n",
    "print \"Parsing sentences from training set\"\n",
    "for review in train[\"review\"]:\n",
    "    sentences += review_to_sentences(review.decode(\"utf8\"), tokenizer)\n",
    "\n",
    "print \"Parsing sentences from unlabeled set\"\n",
    "for review in unlabeled_train[\"review\"]:\n",
    "    sentences += review_to_sentences(review.decode(\"utf8\"), tokenizer)"
   ]
  },
  {
   "cell_type": "markdown",
   "metadata": {},
   "source": [
    "We create a vector representations for each movie post in your training set by training\n",
    "word2vec with context=5, embedding dimension=100, min_words=40. We’ll call\n",
    "the collection of these representations **Z1**."
   ]
  },
  {
   "cell_type": "code",
   "execution_count": 34,
   "metadata": {
    "collapsed": false,
    "scrolled": true
   },
   "outputs": [
    {
     "name": "stderr",
     "output_type": "stream",
     "text": [
      "2017-04-16 23:05:22,017 : INFO : collecting all words and their counts\n",
      "2017-04-16 23:05:22,019 : INFO : PROGRESS: at sentence #0, processed 0 words, keeping 0 word types\n"
     ]
    },
    {
     "name": "stdout",
     "output_type": "stream",
     "text": [
      "Training model...\n"
     ]
    },
    {
     "name": "stderr",
     "output_type": "stream",
     "text": [
      "2017-04-16 23:05:22,381 : INFO : PROGRESS: at sentence #10000, processed 225803 words, keeping 17776 word types\n",
      "2017-04-16 23:05:22,648 : INFO : PROGRESS: at sentence #20000, processed 451887 words, keeping 24948 word types\n",
      "2017-04-16 23:05:22,931 : INFO : PROGRESS: at sentence #30000, processed 671310 words, keeping 30034 word types\n",
      "2017-04-16 23:05:23,188 : INFO : PROGRESS: at sentence #40000, processed 897810 words, keeping 34348 word types\n",
      "2017-04-16 23:05:23,484 : INFO : PROGRESS: at sentence #50000, processed 1116958 words, keeping 37761 word types\n",
      "2017-04-16 23:05:23,793 : INFO : PROGRESS: at sentence #60000, processed 1338399 words, keeping 40723 word types\n",
      "2017-04-16 23:05:24,141 : INFO : PROGRESS: at sentence #70000, processed 1561573 words, keeping 43333 word types\n",
      "2017-04-16 23:05:24,468 : INFO : PROGRESS: at sentence #80000, processed 1780880 words, keeping 45714 word types\n",
      "2017-04-16 23:05:24,782 : INFO : PROGRESS: at sentence #90000, processed 2004989 words, keeping 48135 word types\n",
      "2017-04-16 23:05:25,113 : INFO : PROGRESS: at sentence #100000, processed 2226945 words, keeping 50207 word types\n",
      "2017-04-16 23:05:25,389 : INFO : PROGRESS: at sentence #110000, processed 2446559 words, keeping 52081 word types\n",
      "2017-04-16 23:05:25,651 : INFO : PROGRESS: at sentence #120000, processed 2668754 words, keeping 54119 word types\n",
      "2017-04-16 23:05:25,950 : INFO : PROGRESS: at sentence #130000, processed 2894274 words, keeping 55847 word types\n",
      "2017-04-16 23:05:26,299 : INFO : PROGRESS: at sentence #140000, processed 3106976 words, keeping 57346 word types\n",
      "2017-04-16 23:05:26,613 : INFO : PROGRESS: at sentence #150000, processed 3332598 words, keeping 59055 word types\n",
      "2017-04-16 23:05:26,887 : INFO : PROGRESS: at sentence #160000, processed 3555286 words, keeping 60617 word types\n",
      "2017-04-16 23:05:27,220 : INFO : PROGRESS: at sentence #170000, processed 3778626 words, keeping 62077 word types\n",
      "2017-04-16 23:05:27,542 : INFO : PROGRESS: at sentence #180000, processed 3999207 words, keeping 63496 word types\n",
      "2017-04-16 23:05:27,867 : INFO : PROGRESS: at sentence #190000, processed 4224420 words, keeping 64794 word types\n",
      "2017-04-16 23:05:28,165 : INFO : PROGRESS: at sentence #200000, processed 4448574 words, keeping 66087 word types\n",
      "2017-04-16 23:05:28,445 : INFO : PROGRESS: at sentence #210000, processed 4669938 words, keeping 67390 word types\n",
      "2017-04-16 23:05:28,827 : INFO : PROGRESS: at sentence #220000, processed 4894939 words, keeping 68697 word types\n",
      "2017-04-16 23:05:29,084 : INFO : PROGRESS: at sentence #230000, processed 5117502 words, keeping 69958 word types\n",
      "2017-04-16 23:05:29,365 : INFO : PROGRESS: at sentence #240000, processed 5345007 words, keeping 71167 word types\n",
      "2017-04-16 23:05:29,611 : INFO : PROGRESS: at sentence #250000, processed 5559122 words, keeping 72351 word types\n",
      "2017-04-16 23:05:29,868 : INFO : PROGRESS: at sentence #260000, processed 5779086 words, keeping 73478 word types\n",
      "2017-04-16 23:05:30,143 : INFO : PROGRESS: at sentence #270000, processed 6000375 words, keeping 74767 word types\n",
      "2017-04-16 23:05:30,399 : INFO : PROGRESS: at sentence #280000, processed 6226254 words, keeping 76369 word types\n",
      "2017-04-16 23:05:30,672 : INFO : PROGRESS: at sentence #290000, processed 6449414 words, keeping 77839 word types\n",
      "2017-04-16 23:05:30,941 : INFO : PROGRESS: at sentence #300000, processed 6674015 words, keeping 79171 word types\n",
      "2017-04-16 23:05:31,238 : INFO : PROGRESS: at sentence #310000, processed 6899329 words, keeping 80480 word types\n",
      "2017-04-16 23:05:31,514 : INFO : PROGRESS: at sentence #320000, processed 7124216 words, keeping 81808 word types\n",
      "2017-04-16 23:05:31,791 : INFO : PROGRESS: at sentence #330000, processed 7345958 words, keeping 83030 word types\n",
      "2017-04-16 23:05:32,098 : INFO : PROGRESS: at sentence #340000, processed 7575470 words, keeping 84280 word types\n",
      "2017-04-16 23:05:32,382 : INFO : PROGRESS: at sentence #350000, processed 7798740 words, keeping 85425 word types\n",
      "2017-04-16 23:05:32,661 : INFO : PROGRESS: at sentence #360000, processed 8019345 words, keeping 86596 word types\n",
      "2017-04-16 23:05:32,992 : INFO : PROGRESS: at sentence #370000, processed 8246537 words, keeping 87708 word types\n",
      "2017-04-16 23:05:33,339 : INFO : PROGRESS: at sentence #380000, processed 8471679 words, keeping 88878 word types\n",
      "2017-04-16 23:05:33,648 : INFO : PROGRESS: at sentence #390000, processed 8701410 words, keeping 89907 word types\n",
      "2017-04-16 23:05:33,982 : INFO : PROGRESS: at sentence #400000, processed 8924359 words, keeping 90916 word types\n",
      "2017-04-16 23:05:34,405 : INFO : PROGRESS: at sentence #410000, processed 9145709 words, keeping 91880 word types\n",
      "2017-04-16 23:05:34,695 : INFO : PROGRESS: at sentence #420000, processed 9366777 words, keeping 92912 word types\n",
      "2017-04-16 23:05:35,029 : INFO : PROGRESS: at sentence #430000, processed 9594314 words, keeping 93932 word types\n",
      "2017-04-16 23:05:35,310 : INFO : PROGRESS: at sentence #440000, processed 9821067 words, keeping 94906 word types\n",
      "2017-04-16 23:05:35,589 : INFO : PROGRESS: at sentence #450000, processed 10044829 words, keeping 96036 word types\n",
      "2017-04-16 23:05:35,875 : INFO : PROGRESS: at sentence #460000, processed 10277589 words, keeping 97088 word types\n",
      "2017-04-16 23:05:36,219 : INFO : PROGRESS: at sentence #470000, processed 10505514 words, keeping 97933 word types\n",
      "2017-04-16 23:05:36,489 : INFO : PROGRESS: at sentence #480000, processed 10725890 words, keeping 98862 word types\n",
      "2017-04-16 23:05:36,765 : INFO : PROGRESS: at sentence #490000, processed 10952634 words, keeping 99871 word types\n",
      "2017-04-16 23:05:37,034 : INFO : PROGRESS: at sentence #500000, processed 11174290 words, keeping 100765 word types\n",
      "2017-04-16 23:05:37,311 : INFO : PROGRESS: at sentence #510000, processed 11399565 words, keeping 101699 word types\n",
      "2017-04-16 23:05:37,621 : INFO : PROGRESS: at sentence #520000, processed 11622901 words, keeping 102598 word types\n",
      "2017-04-16 23:05:37,890 : INFO : PROGRESS: at sentence #530000, processed 11847299 words, keeping 103400 word types\n",
      "2017-04-16 23:05:38,170 : INFO : PROGRESS: at sentence #540000, processed 12071914 words, keeping 104265 word types\n",
      "2017-04-16 23:05:38,455 : INFO : PROGRESS: at sentence #550000, processed 12297452 words, keeping 105133 word types\n",
      "2017-04-16 23:05:38,744 : INFO : PROGRESS: at sentence #560000, processed 12518723 words, keeping 105997 word types\n",
      "2017-04-16 23:05:39,121 : INFO : PROGRESS: at sentence #570000, processed 12747772 words, keeping 106787 word types\n",
      "2017-04-16 23:05:39,457 : INFO : PROGRESS: at sentence #580000, processed 12969256 words, keeping 107664 word types\n",
      "2017-04-16 23:05:39,823 : INFO : PROGRESS: at sentence #590000, processed 13194781 words, keeping 108500 word types\n",
      "2017-04-16 23:05:40,137 : INFO : PROGRESS: at sentence #600000, processed 13416979 words, keeping 109217 word types\n",
      "2017-04-16 23:05:40,759 : INFO : PROGRESS: at sentence #610000, processed 13638002 words, keeping 110091 word types\n",
      "2017-04-16 23:05:41,055 : INFO : PROGRESS: at sentence #620000, processed 13864300 words, keeping 110836 word types\n",
      "2017-04-16 23:05:41,420 : INFO : PROGRESS: at sentence #630000, processed 14088586 words, keeping 111609 word types\n",
      "2017-04-16 23:05:41,752 : INFO : PROGRESS: at sentence #640000, processed 14309369 words, keeping 112415 word types\n",
      "2017-04-16 23:05:42,067 : INFO : PROGRESS: at sentence #650000, processed 14535125 words, keeping 113195 word types\n",
      "2017-04-16 23:05:42,598 : INFO : PROGRESS: at sentence #660000, processed 14757903 words, keeping 113944 word types\n",
      "2017-04-16 23:05:42,930 : INFO : PROGRESS: at sentence #670000, processed 14981287 words, keeping 114642 word types\n",
      "2017-04-16 23:05:43,248 : INFO : PROGRESS: at sentence #680000, processed 15206119 words, keeping 115353 word types\n",
      "2017-04-16 23:05:43,525 : INFO : PROGRESS: at sentence #690000, processed 15428312 words, keeping 116130 word types\n",
      "2017-04-16 23:05:43,823 : INFO : PROGRESS: at sentence #700000, processed 15657015 words, keeping 116943 word types\n",
      "2017-04-16 23:05:44,168 : INFO : PROGRESS: at sentence #710000, processed 15879999 words, keeping 117596 word types\n",
      "2017-04-16 23:05:44,461 : INFO : PROGRESS: at sentence #720000, processed 16105286 words, keeping 118221 word types\n",
      "2017-04-16 23:05:44,738 : INFO : PROGRESS: at sentence #730000, processed 16331667 words, keeping 118954 word types\n",
      "2017-04-16 23:05:45,012 : INFO : PROGRESS: at sentence #740000, processed 16552700 words, keeping 119668 word types\n",
      "2017-04-16 23:05:45,324 : INFO : PROGRESS: at sentence #750000, processed 16771027 words, keeping 120295 word types\n",
      "2017-04-16 23:05:45,708 : INFO : PROGRESS: at sentence #760000, processed 16990419 words, keeping 120930 word types\n",
      "2017-04-16 23:05:46,025 : INFO : PROGRESS: at sentence #770000, processed 17217556 words, keeping 121703 word types\n",
      "2017-04-16 23:05:46,334 : INFO : PROGRESS: at sentence #780000, processed 17447702 words, keeping 122402 word types\n",
      "2017-04-16 23:05:46,687 : INFO : PROGRESS: at sentence #790000, processed 17674778 words, keeping 123066 word types\n",
      "2017-04-16 23:05:47,038 : INFO : collected 123504 word types from a corpus of 17797876 raw words and 795538 sentences\n",
      "2017-04-16 23:05:47,049 : INFO : Loading a fresh vocabulary\n",
      "2017-04-16 23:05:47,975 : INFO : min_count=40 retains 16490 unique words (13% of original 123504, drops 107014)\n",
      "2017-04-16 23:05:47,976 : INFO : min_count=40 leaves 17238737 word corpus (96% of original 17797876, drops 559139)\n",
      "2017-04-16 23:05:48,153 : INFO : deleting the raw counts dictionary of 123504 items\n",
      "2017-04-16 23:05:48,198 : INFO : sample=0.001 downsamples 48 most-common words\n",
      "2017-04-16 23:05:48,223 : INFO : downsampling leaves estimated 12749491 word corpus (74.0% of prior 17238737)\n",
      "2017-04-16 23:05:48,225 : INFO : estimated required memory for 16490 words and 100 dimensions: 21437000 bytes\n",
      "2017-04-16 23:05:48,527 : INFO : resetting layer weights\n",
      "2017-04-16 23:05:49,537 : INFO : training model with 4 workers on 16490 vocabulary and 100 features, using sg=0 hs=0 sample=0.001 negative=5 window=5\n",
      "2017-04-16 23:05:50,826 : INFO : PROGRESS: at 0.51% examples, 326527 words/s, in_qsize 8, out_qsize 0\n",
      "2017-04-16 23:05:51,840 : INFO : PROGRESS: at 0.83% examples, 261863 words/s, in_qsize 7, out_qsize 0\n",
      "2017-04-16 23:05:52,904 : INFO : PROGRESS: at 1.22% examples, 252430 words/s, in_qsize 8, out_qsize 0\n",
      "2017-04-16 23:05:53,932 : INFO : PROGRESS: at 1.66% examples, 255401 words/s, in_qsize 8, out_qsize 0\n",
      "2017-04-16 23:05:54,977 : INFO : PROGRESS: at 2.16% examples, 266106 words/s, in_qsize 7, out_qsize 0\n",
      "2017-04-16 23:05:56,014 : INFO : PROGRESS: at 2.63% examples, 268997 words/s, in_qsize 7, out_qsize 0\n",
      "2017-04-16 23:05:57,070 : INFO : PROGRESS: at 2.89% examples, 252534 words/s, in_qsize 7, out_qsize 0\n",
      "2017-04-16 23:05:58,177 : INFO : PROGRESS: at 3.27% examples, 248144 words/s, in_qsize 7, out_qsize 0\n",
      "2017-04-16 23:05:59,224 : INFO : PROGRESS: at 3.67% examples, 247102 words/s, in_qsize 7, out_qsize 0\n",
      "2017-04-16 23:06:00,261 : INFO : PROGRESS: at 4.02% examples, 243786 words/s, in_qsize 7, out_qsize 0\n",
      "2017-04-16 23:06:01,326 : INFO : PROGRESS: at 4.44% examples, 244261 words/s, in_qsize 8, out_qsize 0\n",
      "2017-04-16 23:06:02,347 : INFO : PROGRESS: at 4.81% examples, 243278 words/s, in_qsize 7, out_qsize 0\n",
      "2017-04-16 23:06:03,379 : INFO : PROGRESS: at 5.20% examples, 243130 words/s, in_qsize 8, out_qsize 0\n",
      "2017-04-16 23:06:04,396 : INFO : PROGRESS: at 5.56% examples, 241837 words/s, in_qsize 8, out_qsize 0\n",
      "2017-04-16 23:06:05,397 : INFO : PROGRESS: at 6.05% examples, 246488 words/s, in_qsize 8, out_qsize 0\n",
      "2017-04-16 23:06:06,428 : INFO : PROGRESS: at 6.41% examples, 244512 words/s, in_qsize 7, out_qsize 0\n",
      "2017-04-16 23:06:07,443 : INFO : PROGRESS: at 6.89% examples, 247451 words/s, in_qsize 7, out_qsize 1\n",
      "2017-04-16 23:06:08,461 : INFO : PROGRESS: at 7.46% examples, 253504 words/s, in_qsize 8, out_qsize 0\n",
      "2017-04-16 23:06:09,513 : INFO : PROGRESS: at 7.94% examples, 255590 words/s, in_qsize 8, out_qsize 0\n",
      "2017-04-16 23:06:10,517 : INFO : PROGRESS: at 8.26% examples, 253196 words/s, in_qsize 8, out_qsize 0\n",
      "2017-04-16 23:06:11,522 : INFO : PROGRESS: at 8.77% examples, 256634 words/s, in_qsize 7, out_qsize 0\n",
      "2017-04-16 23:06:12,733 : INFO : PROGRESS: at 9.37% examples, 259601 words/s, in_qsize 7, out_qsize 0\n",
      "2017-04-16 23:06:13,791 : INFO : PROGRESS: at 9.74% examples, 258526 words/s, in_qsize 7, out_qsize 1\n",
      "2017-04-16 23:06:14,796 : INFO : PROGRESS: at 10.20% examples, 259634 words/s, in_qsize 7, out_qsize 0\n",
      "2017-04-16 23:06:15,802 : INFO : PROGRESS: at 10.68% examples, 261126 words/s, in_qsize 7, out_qsize 0\n",
      "2017-04-16 23:06:16,813 : INFO : PROGRESS: at 11.01% examples, 259284 words/s, in_qsize 7, out_qsize 0\n",
      "2017-04-16 23:06:17,859 : INFO : PROGRESS: at 11.41% examples, 258791 words/s, in_qsize 8, out_qsize 0\n",
      "2017-04-16 23:06:18,865 : INFO : PROGRESS: at 11.79% examples, 258446 words/s, in_qsize 7, out_qsize 0\n",
      "2017-04-16 23:06:19,868 : INFO : PROGRESS: at 12.18% examples, 258140 words/s, in_qsize 7, out_qsize 0\n",
      "2017-04-16 23:06:20,872 : INFO : PROGRESS: at 12.73% examples, 261080 words/s, in_qsize 8, out_qsize 0\n",
      "2017-04-16 23:06:21,891 : INFO : PROGRESS: at 13.09% examples, 259923 words/s, in_qsize 8, out_qsize 0\n",
      "2017-04-16 23:06:22,893 : INFO : PROGRESS: at 13.58% examples, 261566 words/s, in_qsize 7, out_qsize 0\n",
      "2017-04-16 23:06:23,900 : INFO : PROGRESS: at 14.11% examples, 263716 words/s, in_qsize 7, out_qsize 0\n",
      "2017-04-16 23:06:24,961 : INFO : PROGRESS: at 14.52% examples, 263579 words/s, in_qsize 7, out_qsize 0\n",
      "2017-04-16 23:06:25,948 : INFO : PROGRESS: at 15.03% examples, 265009 words/s, in_qsize 8, out_qsize 0\n",
      "2017-04-16 23:06:27,003 : INFO : PROGRESS: at 15.58% examples, 267087 words/s, in_qsize 8, out_qsize 1\n",
      "2017-04-16 23:06:27,993 : INFO : PROGRESS: at 16.08% examples, 268413 words/s, in_qsize 8, out_qsize 0\n",
      "2017-04-16 23:06:28,998 : INFO : PROGRESS: at 16.63% examples, 270475 words/s, in_qsize 8, out_qsize 0\n",
      "2017-04-16 23:06:30,006 : INFO : PROGRESS: at 17.19% examples, 272592 words/s, in_qsize 8, out_qsize 0\n",
      "2017-04-16 23:06:31,010 : INFO : PROGRESS: at 17.73% examples, 274274 words/s, in_qsize 7, out_qsize 0\n",
      "2017-04-16 23:06:32,011 : INFO : PROGRESS: at 18.27% examples, 276071 words/s, in_qsize 7, out_qsize 0\n",
      "2017-04-16 23:06:33,025 : INFO : PROGRESS: at 18.84% examples, 277870 words/s, in_qsize 8, out_qsize 0\n",
      "2017-04-16 23:06:34,029 : INFO : PROGRESS: at 19.43% examples, 279962 words/s, in_qsize 7, out_qsize 1\n",
      "2017-04-16 23:06:35,037 : INFO : PROGRESS: at 20.08% examples, 283064 words/s, in_qsize 7, out_qsize 0\n",
      "2017-04-16 23:06:36,038 : INFO : PROGRESS: at 20.73% examples, 285910 words/s, in_qsize 7, out_qsize 0\n",
      "2017-04-16 23:06:37,050 : INFO : PROGRESS: at 21.39% examples, 288700 words/s, in_qsize 8, out_qsize 0\n",
      "2017-04-16 23:06:38,060 : INFO : PROGRESS: at 22.05% examples, 291263 words/s, in_qsize 7, out_qsize 0\n",
      "2017-04-16 23:06:39,077 : INFO : PROGRESS: at 22.70% examples, 293538 words/s, in_qsize 7, out_qsize 0\n",
      "2017-04-16 23:06:40,098 : INFO : PROGRESS: at 23.37% examples, 295968 words/s, in_qsize 7, out_qsize 0\n",
      "2017-04-16 23:06:41,109 : INFO : PROGRESS: at 24.02% examples, 298212 words/s, in_qsize 8, out_qsize 0\n",
      "2017-04-16 23:06:42,144 : INFO : PROGRESS: at 24.70% examples, 300518 words/s, in_qsize 7, out_qsize 0\n",
      "2017-04-16 23:06:43,178 : INFO : PROGRESS: at 25.36% examples, 302593 words/s, in_qsize 7, out_qsize 0\n",
      "2017-04-16 23:06:44,180 : INFO : PROGRESS: at 25.95% examples, 303979 words/s, in_qsize 8, out_qsize 1\n",
      "2017-04-16 23:06:45,183 : INFO : PROGRESS: at 26.62% examples, 305953 words/s, in_qsize 7, out_qsize 0\n",
      "2017-04-16 23:06:46,187 : INFO : PROGRESS: at 27.26% examples, 307729 words/s, in_qsize 7, out_qsize 0\n",
      "2017-04-16 23:06:47,195 : INFO : PROGRESS: at 27.86% examples, 309069 words/s, in_qsize 8, out_qsize 0\n",
      "2017-04-16 23:06:48,199 : INFO : PROGRESS: at 28.48% examples, 310609 words/s, in_qsize 8, out_qsize 0\n",
      "2017-04-16 23:06:49,262 : INFO : PROGRESS: at 29.13% examples, 312025 words/s, in_qsize 7, out_qsize 0\n",
      "2017-04-16 23:06:50,278 : INFO : PROGRESS: at 29.79% examples, 313755 words/s, in_qsize 7, out_qsize 0\n",
      "2017-04-16 23:06:51,295 : INFO : PROGRESS: at 30.46% examples, 315548 words/s, in_qsize 7, out_qsize 0\n",
      "2017-04-16 23:06:52,315 : INFO : PROGRESS: at 31.12% examples, 317148 words/s, in_qsize 8, out_qsize 0\n",
      "2017-04-16 23:06:53,323 : INFO : PROGRESS: at 31.78% examples, 318860 words/s, in_qsize 7, out_qsize 0\n",
      "2017-04-16 23:06:54,330 : INFO : PROGRESS: at 32.44% examples, 320420 words/s, in_qsize 8, out_qsize 0\n",
      "2017-04-16 23:06:55,357 : INFO : PROGRESS: at 33.11% examples, 321949 words/s, in_qsize 7, out_qsize 0\n",
      "2017-04-16 23:06:56,368 : INFO : PROGRESS: at 33.80% examples, 323610 words/s, in_qsize 8, out_qsize 0\n",
      "2017-04-16 23:06:57,370 : INFO : PROGRESS: at 34.44% examples, 324956 words/s, in_qsize 7, out_qsize 0\n",
      "2017-04-16 23:06:58,380 : INFO : PROGRESS: at 35.12% examples, 326429 words/s, in_qsize 7, out_qsize 0\n",
      "2017-04-16 23:06:59,393 : INFO : PROGRESS: at 35.78% examples, 327748 words/s, in_qsize 8, out_qsize 1\n",
      "2017-04-16 23:07:00,394 : INFO : PROGRESS: at 36.38% examples, 328563 words/s, in_qsize 7, out_qsize 0\n",
      "2017-04-16 23:07:01,397 : INFO : PROGRESS: at 37.04% examples, 329849 words/s, in_qsize 7, out_qsize 0\n",
      "2017-04-16 23:07:02,408 : INFO : PROGRESS: at 37.72% examples, 331163 words/s, in_qsize 7, out_qsize 0\n",
      "2017-04-16 23:07:03,416 : INFO : PROGRESS: at 38.39% examples, 332459 words/s, in_qsize 8, out_qsize 0\n",
      "2017-04-16 23:07:04,540 : INFO : PROGRESS: at 39.05% examples, 333009 words/s, in_qsize 7, out_qsize 0\n",
      "2017-04-16 23:07:05,626 : INFO : PROGRESS: at 39.44% examples, 331543 words/s, in_qsize 7, out_qsize 0\n",
      "2017-04-16 23:07:06,635 : INFO : PROGRESS: at 39.96% examples, 331560 words/s, in_qsize 8, out_qsize 0\n",
      "2017-04-16 23:07:07,643 : INFO : PROGRESS: at 40.62% examples, 332691 words/s, in_qsize 7, out_qsize 0\n",
      "2017-04-16 23:07:08,647 : INFO : PROGRESS: at 41.07% examples, 332171 words/s, in_qsize 7, out_qsize 0\n",
      "2017-04-16 23:07:09,675 : INFO : PROGRESS: at 41.67% examples, 332546 words/s, in_qsize 7, out_qsize 0\n",
      "2017-04-16 23:07:10,694 : INFO : PROGRESS: at 42.09% examples, 331716 words/s, in_qsize 8, out_qsize 0\n",
      "2017-04-16 23:07:11,696 : INFO : PROGRESS: at 42.61% examples, 331594 words/s, in_qsize 8, out_qsize 0\n",
      "2017-04-16 23:07:12,728 : INFO : PROGRESS: at 43.17% examples, 331783 words/s, in_qsize 7, out_qsize 0\n",
      "2017-04-16 23:07:13,741 : INFO : PROGRESS: at 43.59% examples, 330925 words/s, in_qsize 8, out_qsize 0\n",
      "2017-04-16 23:07:14,756 : INFO : PROGRESS: at 43.99% examples, 329915 words/s, in_qsize 6, out_qsize 0\n",
      "2017-04-16 23:07:15,783 : INFO : PROGRESS: at 44.50% examples, 329724 words/s, in_qsize 7, out_qsize 0\n",
      "2017-04-16 23:07:16,813 : INFO : PROGRESS: at 44.86% examples, 328454 words/s, in_qsize 7, out_qsize 0\n",
      "2017-04-16 23:07:17,828 : INFO : PROGRESS: at 45.33% examples, 328074 words/s, in_qsize 7, out_qsize 0\n",
      "2017-04-16 23:07:18,853 : INFO : PROGRESS: at 45.83% examples, 327911 words/s, in_qsize 7, out_qsize 0\n",
      "2017-04-16 23:07:19,853 : INFO : PROGRESS: at 46.40% examples, 328241 words/s, in_qsize 8, out_qsize 0\n",
      "2017-04-16 23:07:20,861 : INFO : PROGRESS: at 46.98% examples, 328602 words/s, in_qsize 7, out_qsize 0\n",
      "2017-04-16 23:07:21,862 : INFO : PROGRESS: at 47.49% examples, 328604 words/s, in_qsize 6, out_qsize 0\n",
      "2017-04-16 23:07:22,870 : INFO : PROGRESS: at 48.11% examples, 329272 words/s, in_qsize 7, out_qsize 0\n",
      "2017-04-16 23:07:23,891 : INFO : PROGRESS: at 48.68% examples, 329652 words/s, in_qsize 7, out_qsize 0\n",
      "2017-04-16 23:07:24,916 : INFO : PROGRESS: at 49.26% examples, 329927 words/s, in_qsize 7, out_qsize 0\n",
      "2017-04-16 23:07:25,937 : INFO : PROGRESS: at 49.84% examples, 330367 words/s, in_qsize 8, out_qsize 0\n",
      "2017-04-16 23:07:26,955 : INFO : PROGRESS: at 50.44% examples, 330805 words/s, in_qsize 7, out_qsize 2\n",
      "2017-04-16 23:07:27,956 : INFO : PROGRESS: at 51.03% examples, 331290 words/s, in_qsize 7, out_qsize 0\n",
      "2017-04-16 23:07:28,963 : INFO : PROGRESS: at 51.67% examples, 332108 words/s, in_qsize 8, out_qsize 0\n",
      "2017-04-16 23:07:29,971 : INFO : PROGRESS: at 52.31% examples, 332834 words/s, in_qsize 8, out_qsize 0\n",
      "2017-04-16 23:07:31,013 : INFO : PROGRESS: at 52.96% examples, 333505 words/s, in_qsize 7, out_qsize 0\n",
      "2017-04-16 23:07:32,022 : INFO : PROGRESS: at 53.61% examples, 334273 words/s, in_qsize 7, out_qsize 0\n",
      "2017-04-16 23:07:33,055 : INFO : PROGRESS: at 54.25% examples, 334950 words/s, in_qsize 7, out_qsize 0\n",
      "2017-04-16 23:07:34,055 : INFO : PROGRESS: at 54.89% examples, 335642 words/s, in_qsize 8, out_qsize 0\n",
      "2017-04-16 23:07:35,072 : INFO : PROGRESS: at 55.53% examples, 336272 words/s, in_qsize 8, out_qsize 0\n",
      "2017-04-16 23:07:36,096 : INFO : PROGRESS: at 56.13% examples, 336598 words/s, in_qsize 7, out_qsize 0\n",
      "2017-04-16 23:07:37,113 : INFO : PROGRESS: at 56.72% examples, 336936 words/s, in_qsize 8, out_qsize 0\n",
      "2017-04-16 23:07:38,139 : INFO : PROGRESS: at 57.33% examples, 337311 words/s, in_qsize 7, out_qsize 0\n",
      "2017-04-16 23:07:39,150 : INFO : PROGRESS: at 57.85% examples, 337264 words/s, in_qsize 8, out_qsize 0\n",
      "2017-04-16 23:07:40,171 : INFO : PROGRESS: at 58.43% examples, 337515 words/s, in_qsize 8, out_qsize 0\n",
      "2017-04-16 23:07:41,181 : INFO : PROGRESS: at 59.01% examples, 337729 words/s, in_qsize 8, out_qsize 0\n",
      "2017-04-16 23:07:42,196 : INFO : PROGRESS: at 59.61% examples, 338115 words/s, in_qsize 7, out_qsize 0\n",
      "2017-04-16 23:07:43,203 : INFO : PROGRESS: at 60.24% examples, 338707 words/s, in_qsize 8, out_qsize 0\n",
      "2017-04-16 23:07:44,206 : INFO : PROGRESS: at 60.62% examples, 337799 words/s, in_qsize 8, out_qsize 0\n",
      "2017-04-16 23:07:45,206 : INFO : PROGRESS: at 61.05% examples, 337288 words/s, in_qsize 8, out_qsize 0\n",
      "2017-04-16 23:07:46,215 : INFO : PROGRESS: at 61.53% examples, 336942 words/s, in_qsize 7, out_qsize 0\n",
      "2017-04-16 23:07:47,233 : INFO : PROGRESS: at 61.97% examples, 336395 words/s, in_qsize 8, out_qsize 0\n",
      "2017-04-16 23:07:48,256 : INFO : PROGRESS: at 62.46% examples, 336090 words/s, in_qsize 7, out_qsize 0\n",
      "2017-04-16 23:07:49,263 : INFO : PROGRESS: at 62.81% examples, 335119 words/s, in_qsize 8, out_qsize 0\n",
      "2017-04-16 23:07:50,318 : INFO : PROGRESS: at 63.27% examples, 334560 words/s, in_qsize 8, out_qsize 0\n",
      "2017-04-16 23:07:51,323 : INFO : PROGRESS: at 63.74% examples, 334256 words/s, in_qsize 8, out_qsize 0\n",
      "2017-04-16 23:07:52,327 : INFO : PROGRESS: at 64.24% examples, 334084 words/s, in_qsize 8, out_qsize 0\n",
      "2017-04-16 23:07:53,332 : INFO : PROGRESS: at 64.72% examples, 333855 words/s, in_qsize 7, out_qsize 0\n",
      "2017-04-16 23:07:54,353 : INFO : PROGRESS: at 65.34% examples, 334273 words/s, in_qsize 7, out_qsize 0\n",
      "2017-04-16 23:07:55,361 : INFO : PROGRESS: at 65.87% examples, 334318 words/s, in_qsize 7, out_qsize 0\n",
      "2017-04-16 23:07:56,362 : INFO : PROGRESS: at 66.52% examples, 334836 words/s, in_qsize 7, out_qsize 0\n",
      "2017-04-16 23:07:57,365 : INFO : PROGRESS: at 67.18% examples, 335509 words/s, in_qsize 6, out_qsize 0\n",
      "2017-04-16 23:07:58,388 : INFO : PROGRESS: at 67.83% examples, 336067 words/s, in_qsize 7, out_qsize 0\n",
      "2017-04-16 23:07:59,394 : INFO : PROGRESS: at 68.47% examples, 336656 words/s, in_qsize 7, out_qsize 0\n",
      "2017-04-16 23:08:00,400 : INFO : PROGRESS: at 68.92% examples, 336258 words/s, in_qsize 7, out_qsize 0\n",
      "2017-04-16 23:08:01,403 : INFO : PROGRESS: at 69.42% examples, 336137 words/s, in_qsize 7, out_qsize 0\n",
      "2017-04-16 23:08:02,416 : INFO : PROGRESS: at 70.01% examples, 336432 words/s, in_qsize 7, out_qsize 0\n",
      "2017-04-16 23:08:03,420 : INFO : PROGRESS: at 70.67% examples, 337006 words/s, in_qsize 8, out_qsize 0\n",
      "2017-04-16 23:08:04,455 : INFO : PROGRESS: at 71.25% examples, 337229 words/s, in_qsize 8, out_qsize 0\n",
      "2017-04-16 23:08:05,472 : INFO : PROGRESS: at 71.73% examples, 336964 words/s, in_qsize 7, out_qsize 0\n",
      "2017-04-16 23:08:06,497 : INFO : PROGRESS: at 72.31% examples, 337157 words/s, in_qsize 7, out_qsize 0\n",
      "2017-04-16 23:08:07,533 : INFO : PROGRESS: at 72.90% examples, 337404 words/s, in_qsize 7, out_qsize 0\n",
      "2017-04-16 23:08:08,574 : INFO : PROGRESS: at 73.26% examples, 336570 words/s, in_qsize 5, out_qsize 0\n",
      "2017-04-16 23:08:09,549 : INFO : PROGRESS: at 73.77% examples, 336446 words/s, in_qsize 8, out_qsize 0\n",
      "2017-04-16 23:08:10,573 : INFO : PROGRESS: at 74.02% examples, 335166 words/s, in_qsize 8, out_qsize 0\n",
      "2017-04-16 23:08:11,593 : INFO : PROGRESS: at 74.46% examples, 334774 words/s, in_qsize 7, out_qsize 0\n",
      "2017-04-16 23:08:12,618 : INFO : PROGRESS: at 74.80% examples, 333921 words/s, in_qsize 8, out_qsize 0\n",
      "2017-04-16 23:08:13,624 : INFO : PROGRESS: at 75.21% examples, 333328 words/s, in_qsize 7, out_qsize 1\n",
      "2017-04-16 23:08:14,638 : INFO : PROGRESS: at 75.63% examples, 332868 words/s, in_qsize 8, out_qsize 0\n",
      "2017-04-16 23:08:15,653 : INFO : PROGRESS: at 75.96% examples, 331970 words/s, in_qsize 8, out_qsize 0\n",
      "2017-04-16 23:08:16,660 : INFO : PROGRESS: at 76.48% examples, 331934 words/s, in_qsize 8, out_qsize 0\n",
      "2017-04-16 23:08:17,673 : INFO : PROGRESS: at 77.11% examples, 332419 words/s, in_qsize 7, out_qsize 0\n",
      "2017-04-16 23:08:18,689 : INFO : PROGRESS: at 77.78% examples, 333034 words/s, in_qsize 8, out_qsize 0\n",
      "2017-04-16 23:08:19,728 : INFO : PROGRESS: at 78.44% examples, 333543 words/s, in_qsize 8, out_qsize 0\n",
      "2017-04-16 23:08:20,742 : INFO : PROGRESS: at 79.11% examples, 334048 words/s, in_qsize 8, out_qsize 0\n",
      "2017-04-16 23:08:21,743 : INFO : PROGRESS: at 79.75% examples, 334627 words/s, in_qsize 7, out_qsize 0\n",
      "2017-04-16 23:08:22,756 : INFO : PROGRESS: at 80.41% examples, 335166 words/s, in_qsize 7, out_qsize 0\n",
      "2017-04-16 23:08:23,779 : INFO : PROGRESS: at 81.09% examples, 335727 words/s, in_qsize 6, out_qsize 0\n",
      "2017-04-16 23:08:24,804 : INFO : PROGRESS: at 81.76% examples, 336227 words/s, in_qsize 7, out_qsize 0\n",
      "2017-04-16 23:08:25,817 : INFO : PROGRESS: at 82.43% examples, 336750 words/s, in_qsize 6, out_qsize 0\n",
      "2017-04-16 23:08:26,822 : INFO : PROGRESS: at 83.10% examples, 337331 words/s, in_qsize 8, out_qsize 0\n",
      "2017-04-16 23:08:27,850 : INFO : PROGRESS: at 83.78% examples, 337852 words/s, in_qsize 8, out_qsize 0\n",
      "2017-04-16 23:08:28,855 : INFO : PROGRESS: at 84.44% examples, 338327 words/s, in_qsize 7, out_qsize 0\n",
      "2017-04-16 23:08:29,859 : INFO : PROGRESS: at 85.12% examples, 338884 words/s, in_qsize 8, out_qsize 0\n",
      "2017-04-16 23:08:30,864 : INFO : PROGRESS: at 85.78% examples, 339385 words/s, in_qsize 7, out_qsize 0\n",
      "2017-04-16 23:08:31,878 : INFO : PROGRESS: at 86.43% examples, 339774 words/s, in_qsize 7, out_qsize 0\n",
      "2017-04-16 23:08:32,895 : INFO : PROGRESS: at 87.10% examples, 340284 words/s, in_qsize 7, out_qsize 0\n",
      "2017-04-16 23:08:33,911 : INFO : PROGRESS: at 87.77% examples, 340796 words/s, in_qsize 7, out_qsize 0\n",
      "2017-04-16 23:08:34,922 : INFO : PROGRESS: at 88.43% examples, 341264 words/s, in_qsize 8, out_qsize 0\n",
      "2017-04-16 23:08:35,939 : INFO : PROGRESS: at 88.95% examples, 341158 words/s, in_qsize 8, out_qsize 0\n",
      "2017-04-16 23:08:36,961 : INFO : PROGRESS: at 89.33% examples, 340566 words/s, in_qsize 7, out_qsize 0\n",
      "2017-04-16 23:08:37,973 : INFO : PROGRESS: at 89.82% examples, 340389 words/s, in_qsize 8, out_qsize 0\n",
      "2017-04-16 23:08:38,981 : INFO : PROGRESS: at 90.34% examples, 340304 words/s, in_qsize 7, out_qsize 0\n",
      "2017-04-16 23:08:39,982 : INFO : PROGRESS: at 90.76% examples, 339857 words/s, in_qsize 7, out_qsize 0\n",
      "2017-04-16 23:08:41,001 : INFO : PROGRESS: at 91.17% examples, 339379 words/s, in_qsize 8, out_qsize 0\n",
      "2017-04-16 23:08:42,004 : INFO : PROGRESS: at 91.58% examples, 338975 words/s, in_qsize 7, out_qsize 0\n",
      "2017-04-16 23:08:43,025 : INFO : PROGRESS: at 92.01% examples, 338588 words/s, in_qsize 6, out_qsize 1\n",
      "2017-04-16 23:08:44,034 : INFO : PROGRESS: at 92.47% examples, 338319 words/s, in_qsize 6, out_qsize 1\n",
      "2017-04-16 23:08:45,054 : INFO : PROGRESS: at 92.91% examples, 337933 words/s, in_qsize 7, out_qsize 0\n",
      "2017-04-16 23:08:46,100 : INFO : PROGRESS: at 93.28% examples, 337307 words/s, in_qsize 6, out_qsize 1\n",
      "2017-04-16 23:08:47,121 : INFO : PROGRESS: at 93.68% examples, 336736 words/s, in_qsize 7, out_qsize 0\n",
      "2017-04-16 23:08:48,135 : INFO : PROGRESS: at 94.15% examples, 336544 words/s, in_qsize 8, out_qsize 0\n",
      "2017-04-16 23:08:49,144 : INFO : PROGRESS: at 94.68% examples, 336526 words/s, in_qsize 8, out_qsize 0\n",
      "2017-04-16 23:08:50,187 : INFO : PROGRESS: at 95.13% examples, 336227 words/s, in_qsize 7, out_qsize 0\n",
      "2017-04-16 23:08:51,194 : INFO : PROGRESS: at 95.57% examples, 335834 words/s, in_qsize 7, out_qsize 0\n",
      "2017-04-16 23:08:52,230 : INFO : PROGRESS: at 96.03% examples, 335583 words/s, in_qsize 7, out_qsize 0\n",
      "2017-04-16 23:08:53,247 : INFO : PROGRESS: at 96.54% examples, 335469 words/s, in_qsize 8, out_qsize 0\n",
      "2017-04-16 23:08:54,266 : INFO : PROGRESS: at 96.91% examples, 334895 words/s, in_qsize 7, out_qsize 0\n",
      "2017-04-16 23:08:55,273 : INFO : PROGRESS: at 97.40% examples, 334775 words/s, in_qsize 7, out_qsize 0\n",
      "2017-04-16 23:08:56,301 : INFO : PROGRESS: at 98.05% examples, 335154 words/s, in_qsize 7, out_qsize 0\n",
      "2017-04-16 23:08:57,306 : INFO : PROGRESS: at 98.70% examples, 335569 words/s, in_qsize 7, out_qsize 0\n",
      "2017-04-16 23:08:58,342 : INFO : PROGRESS: at 99.39% examples, 336040 words/s, in_qsize 7, out_qsize 0\n",
      "2017-04-16 23:08:59,242 : INFO : worker thread finished; awaiting finish of 3 more threads\n",
      "2017-04-16 23:08:59,260 : INFO : worker thread finished; awaiting finish of 2 more threads\n",
      "2017-04-16 23:08:59,266 : INFO : worker thread finished; awaiting finish of 1 more threads\n",
      "2017-04-16 23:08:59,281 : INFO : worker thread finished; awaiting finish of 0 more threads\n",
      "2017-04-16 23:08:59,283 : INFO : training on 88989380 raw words (63744092 effective words) took 189.5s, 336445 effective words/s\n",
      "2017-04-16 23:08:59,287 : INFO : precomputing L2-norms of word weight vectors\n",
      "2017-04-16 23:08:59,697 : INFO : saving Word2Vec object under Z1, separately None\n",
      "2017-04-16 23:08:59,699 : INFO : not storing attribute syn0norm\n",
      "2017-04-16 23:08:59,700 : INFO : not storing attribute cum_table\n",
      "2017-04-16 23:09:00,439 : INFO : saved Z1\n"
     ]
    }
   ],
   "source": [
    "# Import the built-in logging module and configure it so that Word2Vec \n",
    "# creates nice output messages\n",
    "import logging\n",
    "logging.basicConfig(format='%(asctime)s : %(levelname)s : %(message)s',\\\n",
    "    level=logging.INFO)\n",
    "\n",
    "# Set values for various parameters\n",
    "num_features = 100    # Word vector dimensionality                      \n",
    "min_word_count = 40   # Minimum word count                        \n",
    "num_workers = 4       # Number of threads to run in parallel\n",
    "context = 5          # Context window size                                                                                    \n",
    "downsampling = 1e-3   # Downsample setting for frequent words\n",
    "\n",
    "# Initialize and train the model (this will take some time)\n",
    "from gensim.models import word2vec\n",
    "print \"Training model...\"\n",
    "model = word2vec.Word2Vec(sentences, workers=num_workers, \\\n",
    "            size=num_features, min_count = min_word_count, \\\n",
    "            window = context, sample = downsampling)\n",
    "\n",
    "# If you don't plan to train the model any further, calling \n",
    "# init_sims will make the model much more memory-efficient.\n",
    "model.init_sims(replace=True)\n",
    "\n",
    "# It can be helpful to create a meaningful model name and \n",
    "# save the model for later use. You can load it later using Word2Vec.load()\n",
    "model_name = \"Z1\"\n",
    "model.save(model_name)"
   ]
  },
  {
   "cell_type": "code",
   "execution_count": 90,
   "metadata": {
    "collapsed": false,
    "scrolled": true
   },
   "outputs": [],
   "source": [
    "from gensim.models import Word2Vec\n",
    "z1 = Word2Vec.load(\"Z1\")"
   ]
  },
  {
   "cell_type": "code",
   "execution_count": 91,
   "metadata": {
    "collapsed": false
   },
   "outputs": [
    {
     "data": {
      "text/plain": [
       "(16490, 100)"
      ]
     },
     "execution_count": 91,
     "metadata": {},
     "output_type": "execute_result"
    }
   ],
   "source": [
    "from gensim.models.keyedvectors import KeyedVectors\n",
    "z1.wv.syn0.shape"
   ]
  },
  {
   "cell_type": "code",
   "execution_count": 92,
   "metadata": {
    "collapsed": false
   },
   "outputs": [
    {
     "name": "stdout",
     "output_type": "stream",
     "text": [
      "Time taken for K Means clustering:  5.16473507881 seconds.\n"
     ]
    }
   ],
   "source": [
    "from sklearn.cluster import KMeans\n",
    "import time\n",
    "\n",
    "start = time.time() # Start time\n",
    "\n",
    "# Set \"k\" (num_clusters) to be 1/5th of the vocabulary size, or an\n",
    "# average of 5 words per cluster\n",
    "word_vectors = z1.wv.syn0\n",
    "num_clusters = 10\n",
    "\n",
    "# Initalize a k-means object and use it to extract centroids\n",
    "kmeans_clustering = KMeans( n_clusters = num_clusters )\n",
    "idx = kmeans_clustering.fit_predict( word_vectors )\n",
    "\n",
    "# Get the end time and print how long the process took\n",
    "end = time.time()\n",
    "elapsed = end - start\n",
    "print \"Time taken for K Means clustering: \", elapsed, \"seconds.\""
   ]
  },
  {
   "cell_type": "code",
   "execution_count": 93,
   "metadata": {
    "collapsed": false
   },
   "outputs": [],
   "source": [
    "# Create a Word / Index dictionary, mapping each vocabulary word to\n",
    "# a cluster number                                                                                            \n",
    "word_centroid_map = dict(zip( z1.wv.index2word, idx ))"
   ]
  },
  {
   "cell_type": "markdown",
   "metadata": {},
   "source": [
    "We can now print the words in each cluster and observe the kinds of themes each cluster represents."
   ]
  },
  {
   "cell_type": "code",
   "execution_count": 94,
   "metadata": {
    "collapsed": false,
    "scrolled": true
   },
   "outputs": [
    {
     "name": "stdout",
     "output_type": "stream",
     "text": [
      "\n",
      "Cluster 0\n",
      "[u'four', u'prices', u'payoff', u'unanswered', u'originality', u'prize', u'tired', u'second', u'errors', u'shocks', u'here', u'kids', u'menu', u'criticism', u'music', u'therefore', u'until', u'relax', u'example', u'reviewing']\n",
      "\n",
      "Cluster 1\n",
      "[u'galactica', u'woody', u'buffy', u'wholeheartedly', u'lore', u'lord', u'forties', u'commenter', u'wednesday', u'expanded', u'cult', u'k', u'golden', u'vaudeville', u'cannibal', u'symphony', u'yahoo', u'dukes', u'famed', u'blade']\n",
      "\n",
      "Cluster 2\n",
      "[u'writings', u'objection', u'rational', u'basics', u'loathing', u'aggression', u'increasing', u'parenting', u'pretensions', u'controversy', u'circumstances', u'concepts', u'caution', u'significance', u'regional', u'beauty', u'misunderstanding', u'feedback', u'shawshank', u'detachment']\n",
      "\n",
      "Cluster 3\n",
      "[u'woods', u'testosterone', u'spiders', u'hanging', u'chatter', u'fingernails', u'shaving', u'sinking', u'yellow', u'fur', u'stabbed', u'screaming', u'crotch', u'succession', u'nigh', u'pulse', u'tires', u'bolts', u'thunder', u'cooking']\n",
      "\n",
      "Cluster 4\n",
      "[u'aided', u'commented', u'forgetting', u'contributed', u'brainwashed', u'reported', u'confronts', u'explained', u'brought', u'spoke', u'successful', u'brings', u'complaining', u'preferable', u'supplied', u'destined', u'opted', u'wins', u'keeps', u'welcomed']\n",
      "\n",
      "Cluster 5\n",
      "[u'gabrielle', u'lori', u'meadows', u'delpy', u'brundle', u'levy', u'dell', u'taj', u'raoul', u'scheider', u'miller', u'bacon', u'frederick', u'valiant', u'currie', u'melvin', u'butch', u'admiral', u'dahl', u'avery']\n",
      "\n",
      "Cluster 6\n",
      "[u'comically', u'immature', u'uttering', u'wooden', u'viable', u'stereotypical', u'specially', u'elegant', u'dialogs', u'uplifting', u'catchy', u'gunplay', u'harmless', u'tastefully', u'morally', u'biographical', u'quips', u'effective', u'fictional', u'sickening']\n",
      "\n",
      "Cluster 7\n",
      "[u'hordes', u'hellgate', u'agreement', u'herd', u'china', u'oxford', u'reports', u'military', u'secluded', u'geography', u'unit', u'painters', u'dna', u'geisha', u'females', u'holy', u'corps', u'organized', u'gaming', u'dinosaurs']\n",
      "\n",
      "Cluster 8\n",
      "[u'increase', u'disturb', u'admire', u'replace', u'strike', u'hurt', u'hold', u'pursue', u'want', u'travel', u'revisit', u'fit', u'fix', u'glorify', u'encourage', u'adapt', u'listen', u'endure', u'participate', u'respond']\n",
      "\n",
      "Cluster 9\n",
      "[u'foul', u'gaul', u'voyeur', u'brutish', u'pumbaa', u'ruthless', u'hobby', u'specialist', u'hero', u'reporter', u'dork', u'natured', u'climber', u'diplomat', u'attendant', u'cheating', u'embarks', u'passport', u'mystic', u'exorcism']\n"
     ]
    }
   ],
   "source": [
    "# For the first 10 clusters\n",
    "for cluster in xrange(0,10):\n",
    "    #\n",
    "    # Print the cluster number  \n",
    "    print \"\\nCluster %d\" % cluster\n",
    "    #\n",
    "    # Find all of the words for that cluster number, and print them out\n",
    "    words = []\n",
    "    for i in xrange(0,len(word_centroid_map.values())):\n",
    "        if( word_centroid_map.values()[i] == cluster ):\n",
    "            words.append(word_centroid_map.keys()[i])\n",
    "    print words[:20]"
   ]
  },
  {
   "cell_type": "code",
   "execution_count": 22,
   "metadata": {
    "collapsed": true
   },
   "outputs": [],
   "source": [
    "def create_bag_of_centroids( wordlist, word_centroid_map ):\n",
    "    #\n",
    "    # The number of clusters is equal to the highest cluster index\n",
    "    # in the word / centroid map\n",
    "    num_centroids = max( word_centroid_map.values() ) + 1\n",
    "    #\n",
    "    # Pre-allocate the bag of centroids vector (for speed)\n",
    "    bag_of_centroids = np.zeros( num_centroids, dtype=\"float32\" )\n",
    "    #\n",
    "    # Loop over the words in the review. If the word is in the vocabulary,\n",
    "    # find which cluster it belongs to, and increment that cluster count \n",
    "    # by one\n",
    "    for word in wordlist:\n",
    "        if word in word_centroid_map:\n",
    "            index = word_centroid_map[word]\n",
    "            bag_of_centroids[index] += 1\n",
    "    #\n",
    "    # Return the \"bag of centroids\"\n",
    "    return bag_of_centroids"
   ]
  },
  {
   "cell_type": "code",
   "execution_count": 29,
   "metadata": {
    "collapsed": false
   },
   "outputs": [],
   "source": [
    "clean_train_reviews = []\n",
    "for review in train[\"review\"]:\n",
    "    clean_train_reviews.append( review_to_wordlist( review, \\\n",
    "        remove_stopwords=True ))"
   ]
  },
  {
   "cell_type": "code",
   "execution_count": 30,
   "metadata": {
    "collapsed": true
   },
   "outputs": [],
   "source": [
    "clean_test_reviews = []\n",
    "for review in test[\"review\"]:\n",
    "    clean_test_reviews.append( review_to_wordlist( review, \\\n",
    "        remove_stopwords=True ))"
   ]
  },
  {
   "cell_type": "code",
   "execution_count": 60,
   "metadata": {
    "collapsed": true
   },
   "outputs": [],
   "source": [
    "import numpy as np"
   ]
  },
  {
   "cell_type": "markdown",
   "metadata": {},
   "source": [
    "We then featurize the training and test reviews in Z1 produce design matrices **X1**. Basically, each review is converted into a bag of centroids feature vector with each vector component representing the count of the number of words in that review that belong in that component’s cluster."
   ]
  },
  {
   "cell_type": "code",
   "execution_count": 63,
   "metadata": {
    "collapsed": false
   },
   "outputs": [],
   "source": [
    "# Pre-allocate an array for the training set bags of centroids (for speed)\n",
    "train_centroids = np.zeros( (train[\"review\"].size, num_clusters), \\\n",
    "    dtype=\"float32\" )\n",
    "\n",
    "# Transform the training set reviews into bags of centroids\n",
    "counter = 0\n",
    "for review in clean_train_reviews:\n",
    "    train_centroids[counter] = create_bag_of_centroids( review, \\\n",
    "        word_centroid_map )\n",
    "    counter += 1\n",
    "\n",
    "# Repeat for test reviews \n",
    "test_centroids = np.zeros(( test[\"review\"].size, num_clusters), \\\n",
    "    dtype=\"float32\" )\n",
    "\n",
    "counter = 0\n",
    "for review in clean_test_reviews:\n",
    "    test_centroids[counter] = create_bag_of_centroids( review, \\\n",
    "        word_centroid_map )\n",
    "    counter += 1"
   ]
  },
  {
   "cell_type": "code",
   "execution_count": 75,
   "metadata": {
    "collapsed": true
   },
   "outputs": [],
   "source": [
    "X1 = train_centroids\n",
    "X1_test = test_centroids"
   ]
  },
  {
   "cell_type": "code",
   "execution_count": 78,
   "metadata": {
    "collapsed": false
   },
   "outputs": [],
   "source": [
    "np.savetxt('X1.txt', X1, delimiter=',', fmt='%i')\n",
    "np.savetxt('X1_test.txt', X1_test, delimiter=',', fmt='%i')"
   ]
  },
  {
   "cell_type": "markdown",
   "metadata": {
    "collapsed": true
   },
   "source": [
    "Now we can process google's model to create **X2**."
   ]
  },
  {
   "cell_type": "code",
   "execution_count": 2,
   "metadata": {
    "collapsed": false
   },
   "outputs": [],
   "source": [
    "import gensim\n",
    "# Load Google's pre-trained Word2Vec model.\n",
    "model = gensim.models.KeyedVectors.load_word2vec_format('GoogleNews-vectors-negative300.bin', binary=True)\n",
    "model.save(\"Z2\")"
   ]
  },
  {
   "cell_type": "code",
   "execution_count": 4,
   "metadata": {
    "collapsed": false
   },
   "outputs": [],
   "source": [
    "z2 = model"
   ]
  },
  {
   "cell_type": "code",
   "execution_count": 8,
   "metadata": {
    "collapsed": false
   },
   "outputs": [],
   "source": [
    "def reduceModel(model, modelgoogle):\n",
    "    featureVec = []\n",
    "    model_set = set(model.index2word)\n",
    "    google_set = set(modelgoogle.index2word)\n",
    "    for word in google_set:\n",
    "        if word in model_set:\n",
    "            featureVec.append(modelgoogle[word])\n",
    "    return featureVec"
   ]
  },
  {
   "cell_type": "code",
   "execution_count": 10,
   "metadata": {
    "collapsed": true
   },
   "outputs": [],
   "source": [
    "z2_reduced = reduceModel(z1, z2)"
   ]
  },
  {
   "cell_type": "code",
   "execution_count": 15,
   "metadata": {
    "collapsed": false
   },
   "outputs": [
    {
     "name": "stdout",
     "output_type": "stream",
     "text": [
      "shape of Z2 is now 15181 by 300\n"
     ]
    }
   ],
   "source": [
    "print 'shape of Z2 is now %i by %i' %(len(z2_reduced), len(z2_reduced[0]))"
   ]
  },
  {
   "cell_type": "code",
   "execution_count": 17,
   "metadata": {
    "collapsed": false
   },
   "outputs": [
    {
     "name": "stdout",
     "output_type": "stream",
     "text": [
      "Time taken for K Means clustering:  27.7024841309 seconds.\n"
     ]
    }
   ],
   "source": [
    "from sklearn.cluster import KMeans\n",
    "import time\n",
    "\n",
    "start = time.time() # Start time\n",
    "\n",
    "# Set \"k\" (num_clusters) to be 1/5th of the vocabulary size, or an\n",
    "# average of 5 words per cluster\n",
    "word_vectors = z2_reduced\n",
    "num_clusters = 10\n",
    "\n",
    "# Initalize a k-means object and use it to extract centroids\n",
    "kmeans_clustering = KMeans( n_clusters = num_clusters )\n",
    "idx = kmeans_clustering.fit_predict( word_vectors )\n",
    "\n",
    "# Get the end time and print how long the process took\n",
    "end = time.time()\n",
    "elapsed = end - start\n",
    "print \"Time taken for K Means clustering: \", elapsed, \"seconds.\""
   ]
  },
  {
   "cell_type": "code",
   "execution_count": 20,
   "metadata": {
    "collapsed": false
   },
   "outputs": [],
   "source": [
    "from gensim.models.keyedvectors import KeyedVectors\n",
    "# Create a Word / Index dictionary, mapping each vocabulary word to\n",
    "# a cluster number                                                                                            \n",
    "word_centroid_map_z2 = dict(zip( z2.index2word, idx ))"
   ]
  },
  {
   "cell_type": "markdown",
   "metadata": {},
   "source": [
    "We can print the words that are in each cluster to get a peek into the topics they represent."
   ]
  },
  {
   "cell_type": "code",
   "execution_count": 88,
   "metadata": {
    "collapsed": false,
    "scrolled": true
   },
   "outputs": [
    {
     "name": "stdout",
     "output_type": "stream",
     "text": [
      "\n",
      "Cluster 0\n",
      "[u'Visitors', u'basics', u'prize', u'tires', u'Hockey', u'fingers', u'bonuses', u'replaced', u'classification', u'Emerson', u'circumstances', u'rulings', u'Colombia', u'##:##', u'provincial', u'Correspondent', u'CFO', u'headquarters', u'cigarettes', u'senators']\n",
      "\n",
      "Cluster 1\n",
      "[u'Does', u'designing', u'Great_Lakes', u'borrowers', u'criticism', u'Wales', u'until', u'wide_receiver', u'welcomed', u'His', u'elementary', u'wash', u'traction', u'bitter', u'younger_brother', u'meetings', u'Salvation_Army', u'lenders', u'greens', u'Anfield']\n",
      "\n",
      "Cluster 2\n",
      "[u'publicly_traded', u'Heights', u'four', u'hanging', u'objection', u'Casey', u'uncertain', u'stabbed', u'woods', u'Paul', u'Bolivia', u'charter', u'tired', u'contributed', u'Hamlin', u'delete_comments', u'increasing', u'pioneering', u'Budget', u'chassis']\n",
      "\n",
      "Cluster 3\n",
      "[u'foul', u'Until', u'electricity', u'sinking', u'Abbas', u'#,###,###', u'Sandy', u'Boise', u'resilient', u'herd', u'auctioned', u'geography', u'beneficiaries', u'derivatives', u'therefore', u'repaid', u'concepts', u'La', u'household', u'hot']\n",
      "\n",
      "Cluster 4\n",
      "[u'Foundation', u'eligible', u'Western', u'bringing', u'Toledo', u'sailed', u'Townsend', u'specialist', u'avert', u'reporter', u'Truth', u'here', u'cult', u'military', u'unit', u'relay', u'brings', u'cuisine', u'destined', u'Housing']\n",
      "\n",
      "Cluster 5\n",
      "[u'Olympics', u'Fairfax', u'Weekend', u'Haitian', u'yellow', u'internally', u'sexual_orientation', u'affiliated', u'NOT', u'cocaine', u'Vernon', u'temperatures', u'revenues', u'Li', u'caution', u'machine', u'significance', u'Ole_Miss', u'thief', u'Barber']\n",
      "\n",
      "Cluster 6\n",
      "[u'granting', u'wooden', u'commented', u'specially', u'mail', u'Some', u'pulse', u'Matthew', u'second', u'sustaining', u'cooking', u'Stephanie', u'buddy', u'cancellation', u'divide', u'cheating', u'Christina', u'standardized', u'successful', u'hurt']\n",
      "\n",
      "Cluster 7\n",
      "[u'aggression', u'Capitol_Hill', u'succession', u'press_releases', u'error', u'reported', u'climbed', u'LG', u'forged', u'Stand', u'Basic', u'opponents', u'Host', u'strike', u'populations', u'tying', u'plunged', u'Tournament', u'.##', u'travel']\n",
      "\n",
      "Cluster 8\n",
      "[u'Sugar', u'prescription_drugs', u'Nasdaq', u'Rachel', u'errors', u'Hamilton', u'Presidential', u'elaborate', u'replace', u'music', u'passport', u'glass', u'famed', u'organized', u'organizer', u'types', u'Serbia', u'rewarded', u'Habitat', u'Rookie']\n",
      "\n",
      "Cluster 9\n",
      "[u'marching', u'unanswered', u'Euro', u'regional', u'Spurs', u'Less', u'Initially', u'hero', u'kids', u'reports', u'explained', u'spoke', u'Rule', u'milestones', u'Torre', u'L.', u'invitation', u'Players', u'keeps', u'wing']\n"
     ]
    }
   ],
   "source": [
    "# For the first 10 clusters\n",
    "for cluster in xrange(0,10):\n",
    "    #\n",
    "    # Print the cluster number  \n",
    "    print \"\\nCluster %d\" % cluster\n",
    "    #\n",
    "    # Find all of the words for that cluster number, and print them out\n",
    "    words = []\n",
    "    for i in xrange(0,len(word_centroid_map_z2.values())):\n",
    "        if( word_centroid_map_z2.values()[i] == cluster ):\n",
    "            words.append(word_centroid_map_z2.keys()[i])\n",
    "    print words[:20]"
   ]
  },
  {
   "cell_type": "code",
   "execution_count": 33,
   "metadata": {
    "collapsed": true
   },
   "outputs": [],
   "source": [
    "import numpy as np"
   ]
  },
  {
   "cell_type": "code",
   "execution_count": 34,
   "metadata": {
    "collapsed": false
   },
   "outputs": [],
   "source": [
    "# Pre-allocate an array for the training set bags of centroids (for speed)\n",
    "train_centroids_z2 = np.zeros( (train[\"review\"].size, num_clusters), \\\n",
    "    dtype=\"float32\" )\n",
    "\n",
    "# Transform the training set reviews into bags of centroids\n",
    "counter = 0\n",
    "for review in clean_train_reviews:\n",
    "    train_centroids_z2[counter] = create_bag_of_centroids( review, \\\n",
    "        word_centroid_map_z2 )\n",
    "    counter += 1\n",
    "\n",
    "# Repeat for test reviews \n",
    "test_centroids_z2 = np.zeros(( test[\"review\"].size, num_clusters), \\\n",
    "    dtype=\"float32\" )\n",
    "\n",
    "counter = 0\n",
    "for review in clean_test_reviews:\n",
    "    test_centroids_z2[counter] = create_bag_of_centroids( review, \\\n",
    "        word_centroid_map_z2 )\n",
    "    counter += 1"
   ]
  },
  {
   "cell_type": "code",
   "execution_count": 35,
   "metadata": {
    "collapsed": true
   },
   "outputs": [],
   "source": [
    "X2 = train_centroids_z2\n",
    "X2_test = test_centroids_z2"
   ]
  },
  {
   "cell_type": "markdown",
   "metadata": {},
   "source": [
    "The matrices are saved for later use."
   ]
  },
  {
   "cell_type": "code",
   "execution_count": 36,
   "metadata": {
    "collapsed": true
   },
   "outputs": [],
   "source": [
    "np.savetxt('X2.txt', X2, delimiter=',', fmt='%i')\n",
    "np.savetxt('X2_test.txt', X2_test, delimiter=',', fmt='%i')"
   ]
  },
  {
   "cell_type": "markdown",
   "metadata": {},
   "source": [
    "## Part 2"
   ]
  },
  {
   "cell_type": "code",
   "execution_count": 37,
   "metadata": {
    "collapsed": true
   },
   "outputs": [],
   "source": [
    "import gensim\n",
    "from gensim import corpora"
   ]
  },
  {
   "cell_type": "markdown",
   "metadata": {},
   "source": [
    "We perform LDA topic modeling on the training set with n_topics=10. Then we featurize each\n",
    "email by its topic composition. We’ll call this representation **X3**."
   ]
  },
  {
   "cell_type": "code",
   "execution_count": 39,
   "metadata": {
    "collapsed": false
   },
   "outputs": [],
   "source": [
    "dictionary = corpora.Dictionary(clean_train_reviews)\n",
    "dictionary.save('reviews_dict.dict')\n",
    "corpus = [dictionary.doc2bow(rev) for rev in clean_train_reviews]\n",
    "corpora.MmCorpus.serialize('reviews_bow.mm', corpus)"
   ]
  },
  {
   "cell_type": "code",
   "execution_count": 40,
   "metadata": {
    "collapsed": true
   },
   "outputs": [],
   "source": [
    "lda_10 = gensim.models.ldamodel.LdaModel(corpus=corpus, id2word=dictionary,\\\n",
    "            num_topics=10, update_every=0, chunksize=1000)"
   ]
  },
  {
   "cell_type": "code",
   "execution_count": 41,
   "metadata": {
    "collapsed": true
   },
   "outputs": [],
   "source": [
    "X3 = lda_10.get_document_topics(corpus, minimum_probability=0)"
   ]
  },
  {
   "cell_type": "markdown",
   "metadata": {},
   "source": [
    "We will use the LDA model with 10 topics to transform our test data and get **X3_test**."
   ]
  },
  {
   "cell_type": "code",
   "execution_count": 45,
   "metadata": {
    "collapsed": false
   },
   "outputs": [],
   "source": [
    "dict_x3_test = corpora.Dictionary(clean_test_reviews)\n",
    "corpus_x3_test = [dict_x3_test.doc2bow(rev) for rev in clean_train_reviews]\n",
    "corpora.MmCorpus.serialize('test_review_bow.mm', corpus_x3_test)"
   ]
  },
  {
   "cell_type": "code",
   "execution_count": 46,
   "metadata": {
    "collapsed": true
   },
   "outputs": [],
   "source": [
    "X3_test = lda_10[corpus_x3_test]"
   ]
  },
  {
   "cell_type": "markdown",
   "metadata": {},
   "source": [
    "Now we can repeat the process with 20 topics to create **X4** and **X4_test**."
   ]
  },
  {
   "cell_type": "code",
   "execution_count": 49,
   "metadata": {
    "collapsed": true
   },
   "outputs": [],
   "source": [
    "lda_20 = gensim.models.ldamodel.LdaModel(corpus=corpus, id2word=dictionary,\\\n",
    "            num_topics=20, update_every=0, chunksize=1000)"
   ]
  },
  {
   "cell_type": "code",
   "execution_count": 50,
   "metadata": {
    "collapsed": true
   },
   "outputs": [],
   "source": [
    "X4 = lda_20.get_document_topics(corpus, minimum_probability=0)"
   ]
  },
  {
   "cell_type": "code",
   "execution_count": 51,
   "metadata": {
    "collapsed": true
   },
   "outputs": [],
   "source": [
    "dict_x4_test = corpora.Dictionary(clean_test_reviews)\n",
    "corpus_x4_test = [dict_x4_test.doc2bow(rev) for rev in clean_train_reviews]\n",
    "corpora.MmCorpus.serialize('test_review_bow.mm', corpus_x4_test)"
   ]
  },
  {
   "cell_type": "code",
   "execution_count": 52,
   "metadata": {
    "collapsed": true
   },
   "outputs": [],
   "source": [
    "X4_test = lda_20[corpus_x4_test]"
   ]
  },
  {
   "cell_type": "markdown",
   "metadata": {},
   "source": [
    "The matrices will now be converted into numpy arrays for easy classification experiments."
   ]
  },
  {
   "cell_type": "code",
   "execution_count": 53,
   "metadata": {
    "collapsed": true
   },
   "outputs": [],
   "source": [
    "def corpus2matrix(corp):\n",
    "    num_rows = len(corp)\n",
    "    num_cols = len(corp[0])\n",
    "    matrix = np.zeros((num_rows, num_cols))\n",
    "    for row in range(num_rows):\n",
    "        if row %1000 == 0:\n",
    "            print 'converting row %i' %row\n",
    "        for i in range(num_cols):\n",
    "            matrix[row][i] = corp[row][i][1]\n",
    "    return matrix"
   ]
  },
  {
   "cell_type": "code",
   "execution_count": 54,
   "metadata": {
    "collapsed": false,
    "scrolled": true
   },
   "outputs": [
    {
     "name": "stdout",
     "output_type": "stream",
     "text": [
      "converting row 0\n",
      "converting row 1000\n",
      "converting row 2000\n",
      "converting row 3000\n",
      "converting row 4000\n",
      "converting row 5000\n",
      "converting row 6000\n",
      "converting row 7000\n",
      "converting row 8000\n",
      "converting row 9000\n",
      "converting row 10000\n",
      "converting row 11000\n",
      "converting row 12000\n",
      "converting row 13000\n",
      "converting row 14000\n",
      "converting row 15000\n",
      "converting row 16000\n",
      "converting row 17000\n",
      "converting row 18000\n",
      "converting row 19000\n",
      "converting row 20000\n",
      "converting row 21000\n",
      "converting row 22000\n",
      "converting row 23000\n",
      "converting row 24000\n",
      "converting row 0\n",
      "converting row 1000\n",
      "converting row 2000\n",
      "converting row 3000\n",
      "converting row 4000\n",
      "converting row 5000\n",
      "converting row 6000\n",
      "converting row 7000\n",
      "converting row 8000\n",
      "converting row 9000\n",
      "converting row 10000\n",
      "converting row 11000\n",
      "converting row 12000\n",
      "converting row 13000\n",
      "converting row 14000\n",
      "converting row 15000\n",
      "converting row 16000\n",
      "converting row 17000\n",
      "converting row 18000\n",
      "converting row 19000\n",
      "converting row 20000\n",
      "converting row 21000\n",
      "converting row 22000\n",
      "converting row 23000\n",
      "converting row 24000\n",
      "converting row 0\n",
      "converting row 1000\n",
      "converting row 2000\n",
      "converting row 3000\n",
      "converting row 4000\n",
      "converting row 5000\n",
      "converting row 6000\n",
      "converting row 7000\n",
      "converting row 8000\n",
      "converting row 9000\n",
      "converting row 10000\n",
      "converting row 11000\n",
      "converting row 12000\n",
      "converting row 13000\n",
      "converting row 14000\n",
      "converting row 15000\n",
      "converting row 16000\n",
      "converting row 17000\n",
      "converting row 18000\n",
      "converting row 19000\n",
      "converting row 20000\n",
      "converting row 21000\n",
      "converting row 22000\n",
      "converting row 23000\n",
      "converting row 24000\n",
      "converting row 0\n",
      "converting row 1000\n",
      "converting row 2000\n",
      "converting row 3000\n",
      "converting row 4000\n",
      "converting row 5000\n",
      "converting row 6000\n",
      "converting row 7000\n",
      "converting row 8000\n",
      "converting row 9000\n",
      "converting row 10000\n",
      "converting row 11000\n",
      "converting row 12000\n",
      "converting row 13000\n",
      "converting row 14000\n",
      "converting row 15000\n",
      "converting row 16000\n",
      "converting row 17000\n",
      "converting row 18000\n",
      "converting row 19000\n",
      "converting row 20000\n",
      "converting row 21000\n",
      "converting row 22000\n",
      "converting row 23000\n",
      "converting row 24000\n"
     ]
    }
   ],
   "source": [
    "x3 = corpus2matrix(X3)\n",
    "x3_test = corpus2matrix(X3_test)\n",
    "x4 = corpus2matrix(X4)\n",
    "x4_test = corpus2matrix(X4_test)"
   ]
  },
  {
   "cell_type": "code",
   "execution_count": 55,
   "metadata": {
    "collapsed": true
   },
   "outputs": [],
   "source": [
    "np.savetxt('X3.txt', x3, delimiter=',')\n",
    "np.savetxt('X4.txt', x4, delimiter=',')\n",
    "np.savetxt('X3_test.txt', x3_test, delimiter=',')\n",
    "np.savetxt('X4_test.txt', x4_test, delimiter=',')"
   ]
  },
  {
   "cell_type": "markdown",
   "metadata": {},
   "source": [
    "Now we can print the topics in X3 and X4."
   ]
  },
  {
   "cell_type": "code",
   "execution_count": 56,
   "metadata": {
    "collapsed": false,
    "scrolled": true
   },
   "outputs": [
    {
     "data": {
      "text/plain": [
       "[(0,\n",
       "  u'0.018*\"film\" + 0.008*\"one\" + 0.007*\"movie\" + 0.006*\"like\" + 0.004*\"even\" + 0.004*\"well\" + 0.004*\"people\" + 0.003*\"get\" + 0.003*\"would\" + 0.003*\"first\"'),\n",
       " (1,\n",
       "  u'0.015*\"movie\" + 0.012*\"film\" + 0.007*\"one\" + 0.006*\"like\" + 0.005*\"would\" + 0.005*\"good\" + 0.005*\"first\" + 0.004*\"story\" + 0.004*\"even\" + 0.004*\"really\"'),\n",
       " (2,\n",
       "  u'0.018*\"movie\" + 0.009*\"film\" + 0.008*\"one\" + 0.006*\"even\" + 0.005*\"good\" + 0.005*\"like\" + 0.005*\"bad\" + 0.005*\"really\" + 0.004*\"time\" + 0.004*\"would\"'),\n",
       " (3,\n",
       "  u'0.021*\"movie\" + 0.009*\"one\" + 0.008*\"film\" + 0.006*\"like\" + 0.005*\"would\" + 0.005*\"good\" + 0.004*\"much\" + 0.004*\"really\" + 0.004*\"think\" + 0.004*\"see\"'),\n",
       " (4,\n",
       "  u'0.016*\"movie\" + 0.010*\"one\" + 0.009*\"film\" + 0.007*\"like\" + 0.006*\"time\" + 0.005*\"story\" + 0.005*\"good\" + 0.005*\"really\" + 0.004*\"great\" + 0.004*\"well\"'),\n",
       " (5,\n",
       "  u'0.015*\"movie\" + 0.010*\"one\" + 0.007*\"like\" + 0.007*\"film\" + 0.006*\"time\" + 0.005*\"really\" + 0.005*\"good\" + 0.004*\"see\" + 0.004*\"even\" + 0.004*\"first\"'),\n",
       " (6,\n",
       "  u'0.020*\"movie\" + 0.014*\"film\" + 0.010*\"one\" + 0.006*\"good\" + 0.005*\"even\" + 0.005*\"like\" + 0.004*\"time\" + 0.004*\"would\" + 0.004*\"characters\" + 0.004*\"great\"'),\n",
       " (7,\n",
       "  u'0.021*\"film\" + 0.007*\"movie\" + 0.006*\"one\" + 0.006*\"like\" + 0.004*\"time\" + 0.004*\"get\" + 0.004*\"even\" + 0.004*\"much\" + 0.003*\"good\" + 0.003*\"little\"'),\n",
       " (8,\n",
       "  u'0.016*\"film\" + 0.010*\"like\" + 0.009*\"movie\" + 0.007*\"one\" + 0.006*\"good\" + 0.006*\"story\" + 0.004*\"really\" + 0.004*\"time\" + 0.004*\"well\" + 0.004*\"would\"'),\n",
       " (9,\n",
       "  u'0.018*\"film\" + 0.014*\"movie\" + 0.011*\"one\" + 0.007*\"like\" + 0.006*\"good\" + 0.005*\"even\" + 0.005*\"see\" + 0.004*\"story\" + 0.004*\"people\" + 0.004*\"would\"')]"
      ]
     },
     "execution_count": 56,
     "metadata": {},
     "output_type": "execute_result"
    }
   ],
   "source": [
    "lda_10.print_topics()"
   ]
  },
  {
   "cell_type": "code",
   "execution_count": 57,
   "metadata": {
    "collapsed": false,
    "scrolled": true
   },
   "outputs": [
    {
     "data": {
      "text/plain": [
       "[(0,\n",
       "  u'0.023*\"movie\" + 0.013*\"one\" + 0.008*\"film\" + 0.007*\"story\" + 0.007*\"like\" + 0.006*\"really\" + 0.005*\"movies\" + 0.005*\"good\" + 0.004*\"great\" + 0.004*\"time\"'),\n",
       " (1,\n",
       "  u'0.014*\"movie\" + 0.012*\"film\" + 0.007*\"one\" + 0.006*\"good\" + 0.006*\"really\" + 0.005*\"like\" + 0.005*\"see\" + 0.005*\"great\" + 0.004*\"story\" + 0.004*\"even\"'),\n",
       " (2,\n",
       "  u'0.013*\"movie\" + 0.012*\"film\" + 0.010*\"one\" + 0.007*\"like\" + 0.005*\"see\" + 0.005*\"great\" + 0.004*\"even\" + 0.004*\"get\" + 0.004*\"also\" + 0.003*\"make\"'),\n",
       " (3,\n",
       "  u'0.010*\"film\" + 0.009*\"movie\" + 0.007*\"like\" + 0.007*\"one\" + 0.005*\"story\" + 0.004*\"even\" + 0.004*\"well\" + 0.004*\"would\" + 0.004*\"time\" + 0.004*\"love\"'),\n",
       " (4,\n",
       "  u'0.012*\"film\" + 0.011*\"one\" + 0.010*\"movie\" + 0.005*\"time\" + 0.004*\"get\" + 0.004*\"see\" + 0.004*\"well\" + 0.004*\"like\" + 0.003*\"way\" + 0.003*\"characters\"'),\n",
       " (5,\n",
       "  u'0.022*\"film\" + 0.006*\"good\" + 0.005*\"one\" + 0.005*\"movie\" + 0.005*\"like\" + 0.005*\"really\" + 0.004*\"much\" + 0.004*\"way\" + 0.004*\"people\" + 0.004*\"story\"'),\n",
       " (6,\n",
       "  u'0.013*\"film\" + 0.013*\"movie\" + 0.009*\"like\" + 0.008*\"good\" + 0.007*\"story\" + 0.007*\"one\" + 0.004*\"bad\" + 0.004*\"would\" + 0.004*\"time\" + 0.004*\"much\"'),\n",
       " (7,\n",
       "  u'0.021*\"film\" + 0.011*\"one\" + 0.008*\"like\" + 0.008*\"movie\" + 0.006*\"would\" + 0.006*\"good\" + 0.005*\"even\" + 0.004*\"well\" + 0.004*\"also\" + 0.004*\"bad\"'),\n",
       " (8,\n",
       "  u'0.012*\"movie\" + 0.009*\"good\" + 0.007*\"one\" + 0.006*\"film\" + 0.005*\"like\" + 0.004*\"see\" + 0.004*\"would\" + 0.004*\"could\" + 0.004*\"well\" + 0.004*\"acting\"'),\n",
       " (9,\n",
       "  u'0.023*\"movie\" + 0.010*\"film\" + 0.008*\"like\" + 0.007*\"one\" + 0.007*\"good\" + 0.005*\"would\" + 0.005*\"see\" + 0.004*\"time\" + 0.004*\"well\" + 0.004*\"get\"'),\n",
       " (10,\n",
       "  u'0.015*\"film\" + 0.012*\"one\" + 0.008*\"movie\" + 0.006*\"like\" + 0.005*\"even\" + 0.005*\"good\" + 0.005*\"would\" + 0.005*\"time\" + 0.004*\"people\" + 0.004*\"best\"'),\n",
       " (11,\n",
       "  u'0.013*\"one\" + 0.011*\"movie\" + 0.007*\"film\" + 0.007*\"good\" + 0.005*\"like\" + 0.005*\"time\" + 0.004*\"see\" + 0.004*\"even\" + 0.004*\"story\" + 0.004*\"way\"'),\n",
       " (12,\n",
       "  u'0.012*\"one\" + 0.012*\"movie\" + 0.010*\"film\" + 0.008*\"bad\" + 0.006*\"time\" + 0.005*\"would\" + 0.005*\"even\" + 0.005*\"really\" + 0.004*\"see\" + 0.004*\"like\"'),\n",
       " (13,\n",
       "  u'0.017*\"movie\" + 0.008*\"one\" + 0.007*\"good\" + 0.005*\"film\" + 0.005*\"story\" + 0.005*\"great\" + 0.004*\"time\" + 0.004*\"really\" + 0.004*\"get\" + 0.004*\"see\"'),\n",
       " (14,\n",
       "  u'0.036*\"movie\" + 0.009*\"like\" + 0.008*\"film\" + 0.007*\"one\" + 0.006*\"would\" + 0.005*\"even\" + 0.005*\"good\" + 0.005*\"time\" + 0.004*\"acting\" + 0.004*\"seen\"'),\n",
       " (15,\n",
       "  u'0.008*\"film\" + 0.008*\"one\" + 0.006*\"like\" + 0.006*\"movie\" + 0.005*\"time\" + 0.005*\"even\" + 0.004*\"films\" + 0.004*\"well\" + 0.004*\"love\" + 0.004*\"really\"'),\n",
       " (16,\n",
       "  u'0.019*\"movie\" + 0.018*\"film\" + 0.009*\"like\" + 0.008*\"one\" + 0.006*\"story\" + 0.005*\"see\" + 0.004*\"really\" + 0.003*\"would\" + 0.003*\"movies\" + 0.003*\"people\"'),\n",
       " (17,\n",
       "  u'0.013*\"movie\" + 0.012*\"film\" + 0.007*\"one\" + 0.005*\"well\" + 0.005*\"two\" + 0.005*\"like\" + 0.005*\"really\" + 0.004*\"good\" + 0.004*\"even\" + 0.004*\"see\"'),\n",
       " (18,\n",
       "  u'0.018*\"movie\" + 0.013*\"film\" + 0.006*\"like\" + 0.005*\"even\" + 0.005*\"one\" + 0.004*\"time\" + 0.004*\"bad\" + 0.004*\"good\" + 0.004*\"well\" + 0.004*\"also\"'),\n",
       " (19,\n",
       "  u'0.023*\"film\" + 0.009*\"one\" + 0.008*\"like\" + 0.006*\"movie\" + 0.005*\"see\" + 0.005*\"would\" + 0.005*\"time\" + 0.005*\"even\" + 0.004*\"much\" + 0.004*\"well\"')]"
      ]
     },
     "execution_count": 57,
     "metadata": {},
     "output_type": "execute_result"
    }
   ],
   "source": [
    "lda_20.print_topics()"
   ]
  },
  {
   "cell_type": "markdown",
   "metadata": {},
   "source": [
    "## Part 3"
   ]
  },
  {
   "cell_type": "markdown",
   "metadata": {},
   "source": [
    "First, we will load in all 4 design matrices and their respective training sets."
   ]
  },
  {
   "cell_type": "code",
   "execution_count": 58,
   "metadata": {
    "collapsed": true
   },
   "outputs": [],
   "source": [
    "X1 = pd.read_csv(\"X1.txt\", header=None, delimiter=\",\", quoting=3).values\n",
    "X1_test = pd.read_csv(\"X1_test.txt\", header=None, delimiter=\",\", quoting=3).values\n",
    "\n",
    "X2 = pd.read_csv(\"X2.txt\", header=None, delimiter=\",\", quoting=3).values\n",
    "X2_test = pd.read_csv(\"X2_test.txt\", header=None, delimiter=\",\", quoting=3).values\n",
    "\n",
    "X3 = pd.read_csv(\"X3.txt\", header=None, delimiter=\",\", quoting=3).values\n",
    "X3_test = pd.read_csv(\"X3_test.txt\", header=None, delimiter=\",\", quoting=3).values\n",
    "\n",
    "X4 = pd.read_csv(\"X4.txt\", header=None, delimiter=\",\", quoting=3).values\n",
    "X4_test = pd.read_csv(\"X4_test.txt\", header=None, delimiter=\",\", quoting=3).values"
   ]
  },
  {
   "cell_type": "markdown",
   "metadata": {},
   "source": [
    "Now, we seek to properly train and tune a collection of random forest classifiers using cross-validation for each of the design matrices X1...X4. There will be four classifiers, M1...M4."
   ]
  },
  {
   "cell_type": "markdown",
   "metadata": {},
   "source": [
    "First, we will perform a 80/20 split on each of the design matrices."
   ]
  },
  {
   "cell_type": "code",
   "execution_count": 59,
   "metadata": {
    "collapsed": true
   },
   "outputs": [],
   "source": [
    "y = train['sentiment'].values"
   ]
  },
  {
   "cell_type": "code",
   "execution_count": 60,
   "metadata": {
    "collapsed": true
   },
   "outputs": [],
   "source": [
    "from sklearn.model_selection import train_test_split\n",
    "x1_80, x1_20, y1_80, y1_20 = train_test_split(X1, y, test_size=0.2)\n",
    "x2_80, x2_20, y2_80, y2_20 = train_test_split(X2, y, test_size=0.2)\n",
    "x3_80, x3_20, y3_80, y3_20 = train_test_split(X3, y, test_size=0.2)\n",
    "x4_80, x4_20, y4_80, y4_20 = train_test_split(X4, y, test_size=0.2)"
   ]
  },
  {
   "cell_type": "markdown",
   "metadata": {},
   "source": [
    "Now we will tune the model by optimizing the number of estimators to use in the random forest classifier."
   ]
  },
  {
   "cell_type": "code",
   "execution_count": 61,
   "metadata": {
    "collapsed": true
   },
   "outputs": [],
   "source": [
    "from sklearn.ensemble import RandomForestClassifier\n",
    "from sklearn.model_selection import cross_val_score\n",
    "import random"
   ]
  },
  {
   "cell_type": "code",
   "execution_count": 72,
   "metadata": {
    "collapsed": true
   },
   "outputs": [],
   "source": [
    "x1_scores = []\n",
    "for i in range(10):\n",
    "    n = random.randint(2,100)\n",
    "    forest = RandomForestClassifier(n_estimators=n)\n",
    "    score = cross_val_score(forest, x1_80, y1_80, cv=5, scoring='roc_auc').mean()\n",
    "    x1_scores.append((n, score))"
   ]
  },
  {
   "cell_type": "code",
   "execution_count": 74,
   "metadata": {
    "collapsed": true
   },
   "outputs": [],
   "source": [
    "x2_scores = []\n",
    "for i in range(10):\n",
    "    n = random.randint(2,100)\n",
    "    forest = RandomForestClassifier(n_estimators=n)\n",
    "    score = cross_val_score(forest, x2_80, y2_80, cv=5, scoring='roc_auc').mean()\n",
    "    x2_scores.append((n, score))"
   ]
  },
  {
   "cell_type": "code",
   "execution_count": 75,
   "metadata": {
    "collapsed": true
   },
   "outputs": [],
   "source": [
    "x3_scores = []\n",
    "for i in range(10):\n",
    "    n = random.randint(2,100)\n",
    "    forest = RandomForestClassifier(n_estimators=n)\n",
    "    score = cross_val_score(forest, x3_80, y3_80, cv=5, scoring='roc_auc').mean()\n",
    "    x3_scores.append((n, score))"
   ]
  },
  {
   "cell_type": "code",
   "execution_count": 76,
   "metadata": {
    "collapsed": true
   },
   "outputs": [],
   "source": [
    "x4_scores = []\n",
    "for i in range(10):\n",
    "    n = random.randint(2,100)\n",
    "    forest = RandomForestClassifier(n_estimators=n)\n",
    "    score = cross_val_score(forest, x4_80, y4_80, cv=5, scoring='roc_auc').mean()\n",
    "    x4_scores.append((n, score))"
   ]
  },
  {
   "cell_type": "markdown",
   "metadata": {},
   "source": [
    "Let's see which number of estimators provided the best results for each matrix."
   ]
  },
  {
   "cell_type": "code",
   "execution_count": 77,
   "metadata": {
    "collapsed": true
   },
   "outputs": [],
   "source": [
    "def getbestN(matrixName, avgs):\n",
    "    maxN = 0\n",
    "    maxScore = 0\n",
    "    for c in avgs:\n",
    "        if c[1] > maxScore:\n",
    "            maxN = c[0]\n",
    "            maxScore = c[1]\n",
    "    print matrixName + ':\\n'\n",
    "    print 'Best n_estimators: '+ str(maxN) + '\\nROC AUC score: ' + str(maxScore) + '\\n'"
   ]
  },
  {
   "cell_type": "code",
   "execution_count": 78,
   "metadata": {
    "collapsed": false
   },
   "outputs": [
    {
     "name": "stdout",
     "output_type": "stream",
     "text": [
      "X1:\n",
      "\n",
      "Best n_estimators: 98\n",
      "ROC AUC score: 0.668601788646\n",
      "\n",
      "X2:\n",
      "\n",
      "Best n_estimators: 68\n",
      "ROC AUC score: 0.550655385242\n",
      "\n",
      "X3:\n",
      "\n",
      "Best n_estimators: 91\n",
      "ROC AUC score: 0.572202782432\n",
      "\n",
      "X4:\n",
      "\n",
      "Best n_estimators: 95\n",
      "ROC AUC score: 0.60717689139\n",
      "\n"
     ]
    }
   ],
   "source": [
    "getbestN(\"X1\", x1_scores)\n",
    "getbestN(\"X2\", x2_scores)\n",
    "getbestN(\"X3\", x3_scores)\n",
    "getbestN(\"X4\", x4_scores)"
   ]
  },
  {
   "cell_type": "markdown",
   "metadata": {},
   "source": [
    "We now have the optimal classifiers and will assign them the names **M1, M2, M3**, and **M4**. We will use these classifiers to predict the values of the test sets."
   ]
  },
  {
   "cell_type": "code",
   "execution_count": 79,
   "metadata": {
    "collapsed": true
   },
   "outputs": [],
   "source": [
    "M1 = RandomForestClassifier(n_estimators=98).fit(x1_80, y1_80)\n",
    "M2 = RandomForestClassifier(n_estimators=68).fit(x2_80, y2_80)\n",
    "M3 = RandomForestClassifier(n_estimators=91).fit(x3_80, y3_80)\n",
    "M4 = RandomForestClassifier(n_estimators=95).fit(x4_80, y4_80)"
   ]
  },
  {
   "cell_type": "code",
   "execution_count": 84,
   "metadata": {
    "collapsed": true
   },
   "outputs": [],
   "source": [
    "m1_scores = M1.predict(x1_20)\n",
    "m2_scores = M2.predict(x2_20)\n",
    "m3_scores = M3.predict(x3_20)\n",
    "m4_scores = M4.predict(x4_20)"
   ]
  },
  {
   "cell_type": "markdown",
   "metadata": {},
   "source": [
    "We can use the predicted probabilites to plot the ROC curve for each of our four training matrices."
   ]
  },
  {
   "cell_type": "code",
   "execution_count": 81,
   "metadata": {
    "collapsed": true
   },
   "outputs": [],
   "source": [
    "from sklearn.metrics import roc_curve, auc\n",
    "import matplotlib.pyplot as plt"
   ]
  },
  {
   "cell_type": "code",
   "execution_count": 85,
   "metadata": {
    "collapsed": false
   },
   "outputs": [],
   "source": [
    "x1_fpr, x1_tpr, x1_thresh = roc_curve(y1_20, m1_scores, pos_label=1)\n",
    "x1_auc = auc(x1_fpr, x1_tpr)\n",
    "\n",
    "x2_fpr, x2_tpr, x2_thresh = roc_curve(y2_20, m2_scores, pos_label=1)\n",
    "x2_auc = auc(x2_fpr, x2_tpr)\n",
    "\n",
    "x3_fpr, x3_tpr, x3_thresh = roc_curve(y3_20, m3_scores, pos_label=1)\n",
    "x3_auc = auc(x3_fpr, x3_tpr)\n",
    "\n",
    "x4_fpr, x4_tpr, x4_thresh = roc_curve(y4_20, m4_scores, pos_label=1)\n",
    "x4_auc = auc(x4_fpr, x4_tpr)"
   ]
  },
  {
   "cell_type": "code",
   "execution_count": 86,
   "metadata": {
    "collapsed": false
   },
   "outputs": [
    {
     "data": {
      "image/png": "[encoded data removed]",
      "text/plain": [
       "<matplotlib.figure.Figure at 0x2a5939850>"
      ]
     },
     "metadata": {},
     "output_type": "display_data"
    }
   ],
   "source": [
    "plt.figure()\n",
    "plt.plot(x1_fpr, x1_tpr, label='X1 auc=%0.4f' %x1_auc)\n",
    "plt.plot(x2_fpr, x2_tpr, label='X2 auc=%0.4f' %x2_auc)\n",
    "plt.plot(x3_fpr, x3_tpr, label='X3 auc=%0.4f' %x3_auc)\n",
    "plt.plot(x4_fpr, x4_tpr, label='X4 auc=%0.4f' %x4_auc)\n",
    "plt.xlabel('False Positive Rate')\n",
    "plt.ylabel('True Positive Rate')\n",
    "plt.title('ROC curve')\n",
    "plt.legend(loc='lower right')\n",
    "plt.show()"
   ]
  },
  {
   "cell_type": "markdown",
   "metadata": {},
   "source": [
    "The best performer proved to be the X1 design matrix, which utilized word2vec to train a vector representation of the movie reviews, and then used K-Means clustering to featurize the training set. However, it still significantly underperformed the standard bag-of-words model, which achieved an AUC score close to 0.90.\n",
    "\n",
    "Given more time and resources to perform experiments, I would have experimented with the classifiers in several different ways. The first parameter to alter could be the context size when training the word2vec. In these tests we utilized 5, but a window of such size may not sufficiently capture the themes and tones in an author's movie review. Additionally, it would be interesting to incorporate n-grams into our featurization of the reviews. N-grams could provide insight into commonly used phrases relevant to reviewer sentiment by capturing phrases such as \"It was great\" or \"It was not great\", where word order is very relevant.\n",
    "\n",
    "Another important parameter to test would be the number of clusters in K-Means. For a corpus of 25,000 reviews, 10 clusters may well overlap topics that to a human observer would seem easy to differentiate.\n",
    "Trying a larger number such as 100 may better capture the nuances of the reviews and lead to better feature vectors. \n",
    "   \n",
    "Another important alteration would be the implementation of a tf-idf filtered corpus. This may help eliminate common words which add no value to the overall sentiment of the review. Examples include the words 'film' and 'movie'. This may also improve the efficacy of the LDA transformations, since the topics would be free from frequently used words of little import. "
   ]
  },
  {
   "cell_type": "markdown",
   "metadata": {},
   "source": [
    "### Kaggle submission"
   ]
  },
  {
   "cell_type": "markdown",
   "metadata": {},
   "source": [
    "We retrain the models with the entire training set and predict on the test set."
   ]
  },
  {
   "cell_type": "code",
   "execution_count": 95,
   "metadata": {
    "collapsed": true
   },
   "outputs": [],
   "source": [
    "k1 = RandomForestClassifier(n_estimators=98).fit(X1, y).predict(X1_test)\n",
    "k2 = RandomForestClassifier(n_estimators=68).fit(X2, y).predict(X2_test)\n",
    "k3 = RandomForestClassifier(n_estimators=91).fit(X3, y).predict(X3_test)\n",
    "k4 = RandomForestClassifier(n_estimators=95).fit(X4, y).predict(X4_test)"
   ]
  },
  {
   "cell_type": "code",
   "execution_count": 99,
   "metadata": {
    "collapsed": true
   },
   "outputs": [],
   "source": [
    "output1 = pd.DataFrame(data={\"id\":test[\"id\"], \"sentiment\":k1})\n",
    "output1.to_csv( \"k1.csv\", index=False, quoting=3 )\n",
    "\n",
    "output2 = pd.DataFrame(data={\"id\":test[\"id\"], \"sentiment\":k2})\n",
    "output2.to_csv( \"k2.csv\", index=False, quoting=3 )\n",
    "\n",
    "output3 = pd.DataFrame(data={\"id\":test[\"id\"], \"sentiment\":k3})\n",
    "output3.to_csv( \"k3.csv\", index=False, quoting=3 )\n",
    "\n",
    "output4 = pd.DataFrame(data={\"id\":test[\"id\"], \"sentiment\":k4})\n",
    "output4.to_csv( \"k4.csv\", index=False, quoting=3 )"
   ]
  },
  {
   "cell_type": "markdown",
   "metadata": {},
   "source": [
    "The results are submitted to Kaggle to receive a score. The results are underwhelming but expected given our previous experiments. With more time to tune parameters and experiment with the featurization, the accuracy of each matrix would increase. However, it remains impressive the comparative performance that the simple bag-of-words model achieved."
   ]
  },
  {
   "cell_type": "code",
   "execution_count": 104,
   "metadata": {
    "collapsed": false
   },
   "outputs": [
    {
     "data": {
      "image/png": "[encoded data removed]",
      "text/plain": [
       "<IPython.core.display.Image object>"
      ]
     },
     "execution_count": 104,
     "metadata": {},
     "output_type": "execute_result"
    }
   ],
   "source": [
    "from IPython.display import Image\n",
    "Image(filename=\"k1.png\")"
   ]
  },
  {
   "cell_type": "code",
   "execution_count": 101,
   "metadata": {
    "collapsed": false
   },
   "outputs": [
    {
     "data": {
      "image/png": "[encoded data removed]",
      "text/plain": [
       "<IPython.core.display.Image object>"
      ]
     },
     "execution_count": 101,
     "metadata": {},
     "output_type": "execute_result"
    }
   ],
   "source": [
    "Image(filename=\"k2.png\")"
   ]
  },
  {
   "cell_type": "code",
   "execution_count": 102,
   "metadata": {
    "collapsed": false
   },
   "outputs": [
    {
     "data": {
      "image/png": "[encoded data removed]",
      "text/plain": [
       "<IPython.core.display.Image object>"
      ]
     },
     "execution_count": 102,
     "metadata": {},
     "output_type": "execute_result"
    }
   ],
   "source": [
    "Image(filename=\"k3.png\")"
   ]
  },
  {
   "cell_type": "code",
   "execution_count": 103,
   "metadata": {
    "collapsed": false
   },
   "outputs": [
    {
     "data": {
      "image/png": "[encoded data removed]",
      "text/plain": [
       "<IPython.core.display.Image object>"
      ]
     },
     "execution_count": 103,
     "metadata": {},
     "output_type": "execute_result"
    }
   ],
   "source": [
    "Image(filename=\"k4.png\")"
   ]
  }
 ],
 "metadata": {
  "kernelspec": {
   "display_name": "Python 2",
   "language": "python",
   "name": "python2"
  },
  "language_info": {
   "codemirror_mode": {
    "name": "ipython",
    "version": 2
   },
   "file_extension": ".py",
   "mimetype": "text/x-python",
   "name": "python",
   "nbconvert_exporter": "python",
   "pygments_lexer": "ipython2",
   "version": "2.7.13"
  }
 },
 "nbformat": 4,
 "nbformat_minor": 1
}
