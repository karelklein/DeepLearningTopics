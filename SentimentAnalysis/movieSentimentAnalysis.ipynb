{
 "cells": [
  {
   "cell_type": "markdown",
   "metadata": {},
   "source": [
    "## PART 1 - Processing text to create design matrices"
   ]
  },
  {
   "cell_type": "code",
   "execution_count": 183,
   "metadata": {
    "collapsed": false
   },
   "outputs": [],
   "source": [
    "import pandas as pd\n",
    "train = pd.read_csv(\"labeledTrainData.tsv\", header=0, \\\n",
    "                   delimiter=\"\\t\", quoting=3)"
   ]
  },
  {
   "cell_type": "markdown",
   "metadata": {},
   "source": [
    "The training data contains 25,000 reviews, each with a binary sentiment score and ID."
   ]
  },
  {
   "cell_type": "code",
   "execution_count": 184,
   "metadata": {
    "collapsed": false
   },
   "outputs": [
    {
     "name": "stdout",
     "output_type": "stream",
     "text": [
      "(25000, 3)\n",
      "['id' 'sentiment' 'review']\n"
     ]
    }
   ],
   "source": [
    "print train.shape\n",
    "print train.columns.values"
   ]
  },
  {
   "cell_type": "code",
   "execution_count": 141,
   "metadata": {
    "collapsed": false
   },
   "outputs": [
    {
     "name": "stdout",
     "output_type": "stream",
     "text": [
      "Requirement already satisfied: BeautifulSoup4 in /Users/user/anaconda/lib/python2.7/site-packages\r\n"
     ]
    }
   ],
   "source": [
    "!pip install BeautifulSoup4\n",
    "from bs4 import BeautifulSoup"
   ]
  },
  {
   "cell_type": "code",
   "execution_count": 10,
   "metadata": {
    "collapsed": true
   },
   "outputs": [],
   "source": [
    "import re"
   ]
  },
  {
   "cell_type": "code",
   "execution_count": 11,
   "metadata": {
    "collapsed": false
   },
   "outputs": [
    {
     "name": "stdout",
     "output_type": "stream",
     "text": [
      "[nltk_data] Downloading package stopwords to /Users/user/nltk_data...\n",
      "[nltk_data]   Package stopwords is already up-to-date!\n"
     ]
    }
   ],
   "source": [
    "import nltk\n",
    "nltk.download(['stopwords'])\n",
    "from nltk.corpus import stopwords"
   ]
  },
  {
   "cell_type": "markdown",
   "metadata": {},
   "source": [
    "Given a raw review, the function review_to_words will clean the text to remove HTML markup, stop words, and all punctuation and numbers. "
   ]
  },
  {
   "cell_type": "code",
   "execution_count": 185,
   "metadata": {
    "collapsed": true
   },
   "outputs": [],
   "source": [
    "def review_to_words(raw_review):\n",
    "    review_text = BeautifulSoup(raw_review).get_text()\n",
    "    letters_only = re.sub(\"[^a-zA-z]\", \" \", review_text)\n",
    "    words = letters_only.lower().split()\n",
    "    stops = set(stopwords.words(\"english\"))\n",
    "    meaningful_words = [w for w in words if not w in stops]\n",
    "    return \" \".join(meaningful_words)"
   ]
  },
  {
   "cell_type": "markdown",
   "metadata": {},
   "source": [
    "This function can now be used to iterate through the training data and make a new list of cleaned reviews."
   ]
  },
  {
   "cell_type": "code",
   "execution_count": 186,
   "metadata": {
    "collapsed": false
   },
   "outputs": [
    {
     "name": "stdout",
     "output_type": "stream",
     "text": [
      "Cleaning and parsing the movie reviews training set...\n",
      "\n",
      "Review 1000 of 25000\n",
      "\n",
      "Review 2000 of 25000\n",
      "\n",
      "Review 3000 of 25000\n",
      "\n",
      "Review 4000 of 25000\n",
      "\n",
      "Review 5000 of 25000\n",
      "\n",
      "Review 6000 of 25000\n",
      "\n",
      "Review 7000 of 25000\n",
      "\n",
      "Review 8000 of 25000\n",
      "\n",
      "Review 9000 of 25000\n",
      "\n",
      "Review 10000 of 25000\n",
      "\n",
      "Review 11000 of 25000\n",
      "\n",
      "Review 12000 of 25000\n",
      "\n",
      "Review 13000 of 25000\n",
      "\n",
      "Review 14000 of 25000\n",
      "\n",
      "Review 15000 of 25000\n",
      "\n",
      "Review 16000 of 25000\n",
      "\n",
      "Review 17000 of 25000\n",
      "\n",
      "Review 18000 of 25000\n",
      "\n",
      "Review 19000 of 25000\n",
      "\n",
      "Review 20000 of 25000\n",
      "\n",
      "Review 21000 of 25000\n",
      "\n",
      "Review 22000 of 25000\n",
      "\n",
      "Review 23000 of 25000\n",
      "\n",
      "Review 24000 of 25000\n",
      "\n",
      "Review 25000 of 25000\n",
      "\n"
     ]
    }
   ],
   "source": [
    "num_reviews = train['review'].size\n",
    "clean_train_reviews = []\n",
    "sentiments_train = []\n",
    "\n",
    "print \"Cleaning and parsing the movie reviews training set...\\n\"\n",
    "for i in xrange(0, num_reviews):\n",
    "    clean_train_reviews.append(review_to_words(train['review'][i]))\n",
    "    sentiments_train.append(train['sentiment'][i])\n",
    "    if( (i+1)%1000 == 0 ):\n",
    "        print \"Review %d of %d\\n\" % ( i+1, num_reviews )"
   ]
  },
  {
   "cell_type": "markdown",
   "metadata": {},
   "source": [
    "Now we can use clean_train_words to create a bag of words using sklearn's feature extraction methods. We limit the size of the vocabulary to 5000 words and create the X_counts array to house the raw words counts."
   ]
  },
  {
   "cell_type": "code",
   "execution_count": 187,
   "metadata": {
    "collapsed": false
   },
   "outputs": [
    {
     "name": "stdout",
     "output_type": "stream",
     "text": [
      "Creating the bag of words...\n",
      "\n"
     ]
    }
   ],
   "source": [
    "print \"Creating the bag of words...\\n\"\n",
    "from sklearn.feature_extraction.text import CountVectorizer\n",
    "\n",
    "vectorizer = CountVectorizer(analyzer = \"word\",   \\\n",
    "                             tokenizer = None,    \\\n",
    "                             preprocessor = None, \\\n",
    "                             stop_words = None,   \\\n",
    "                             max_features = 5000) \n",
    "\n",
    "# fit_transform() does two functions: First, it fits the model\n",
    "# and learns the vocabulary; second, it transforms our training data\n",
    "# into feature vectors. The input to fit_transform should be a list of \n",
    "# strings.\n",
    "train_data_features = vectorizer.fit_transform(clean_train_reviews)\n",
    "X_counts = train_data_features.toarray()"
   ]
  },
  {
   "cell_type": "markdown",
   "metadata": {},
   "source": [
    "We can now transform X_counts into a binary matrix X_binary, where counts greater than 0 become 1 and counts of 0 remain as they were."
   ]
  },
  {
   "cell_type": "code",
   "execution_count": 145,
   "metadata": {
    "collapsed": false
   },
   "outputs": [],
   "source": [
    "X_binary = []\n",
    "for review in X_counts:\n",
    "    review_binary = []\n",
    "    for count in review:\n",
    "        if count > 0: \n",
    "            review_binary.append(1)\n",
    "        else:\n",
    "            review_binary.append(0)\n",
    "    X_binary.append(review_binary)"
   ]
  },
  {
   "cell_type": "markdown",
   "metadata": {},
   "source": [
    "We can use sklearn's tfidf vectorizer to get the X_tfidf term-frequency inverse document-frequency matrix"
   ]
  },
  {
   "cell_type": "code",
   "execution_count": 146,
   "metadata": {
    "collapsed": true
   },
   "outputs": [],
   "source": [
    "from sklearn.feature_extraction.text import TfidfTransformer"
   ]
  },
  {
   "cell_type": "code",
   "execution_count": 147,
   "metadata": {
    "collapsed": true
   },
   "outputs": [],
   "source": [
    "transformer = TfidfTransformer(smooth_idf=False)\n",
    "X_tfidf = transformer.fit_transform(X_counts)\n",
    "X_tfidf = X_tfidf.toarray()"
   ]
  },
  {
   "cell_type": "markdown",
   "metadata": {},
   "source": [
    "Create X_binary_imabalnce that will delete 75% of reviews with sentiment=1 to create an imabalanced dataset."
   ]
  },
  {
   "cell_type": "code",
   "execution_count": 148,
   "metadata": {
    "collapsed": false
   },
   "outputs": [],
   "source": [
    "import numpy as np\n",
    "\n",
    "X_binary_imbalance = []\n",
    "Y_binary_imbalance = []\n",
    "X_1 = []\n",
    "Y_1 = []\n",
    "for i in range(len(X_binary)):\n",
    "    if sentiments_train[i] == 1:\n",
    "        X_1.append(X_binary[i])\n",
    "        Y_1.append(sentiments_train[i])\n",
    "    else:\n",
    "        X_binary_imbalance.append(X_binary[i])\n",
    "        Y_binary_imbalance.append(sentiments_train[i])\n",
    "        \n",
    "# take X_1 and delete 75% of its rows randomly\n",
    "# first, select random indeces to keep\n",
    "\n",
    "random_indeces = np.random.choice(len(X_1), len(X_1)//4)\n",
    "for index in random_indeces:\n",
    "    X_binary_imbalance.append(X_1[int(index)])\n",
    "    Y_binary_imbalance.append(Y_1[int(index)])"
   ]
  },
  {
   "cell_type": "markdown",
   "metadata": {},
   "source": [
    "## PART 2 - Feature Space Similarity Experiment"
   ]
  },
  {
   "cell_type": "markdown",
   "metadata": {},
   "source": [
    "Let dist(X, i, j, distance_function=’Euclidean’) be a function which returns the (Euclidean) distance between rows i and j of a design matrix. Import scipy to make the calculation efficient."
   ]
  },
  {
   "cell_type": "code",
   "execution_count": 149,
   "metadata": {
    "collapsed": true
   },
   "outputs": [],
   "source": [
    "import scipy"
   ]
  },
  {
   "cell_type": "code",
   "execution_count": 150,
   "metadata": {
    "collapsed": true
   },
   "outputs": [],
   "source": [
    "def dist(X,i,j,distance_function='Euclidean'):\n",
    "    matrix = [X[i],X[j]]\n",
    "    return scipy.spatial.distance.pdist(matrix, 'euclidean')"
   ]
  },
  {
   "cell_type": "markdown",
   "metadata": {},
   "source": [
    "Let topk(X, k) be a function which returns ((i1,j1,d1),...(ik,jk,dk)) where (ix,jx) are the indices of the xth closest pair, and dx is the corresponding distance."
   ]
  },
  {
   "cell_type": "code",
   "execution_count": 21,
   "metadata": {
    "collapsed": false
   },
   "outputs": [],
   "source": [
    "from sklearn.metrics.pairwise import euclidean_distances\n",
    "from scipy.sparse import csr_matrix, coo_matrix\n",
    "from itertools import izip"
   ]
  },
  {
   "cell_type": "code",
   "execution_count": null,
   "metadata": {
    "collapsed": true
   },
   "outputs": [],
   "source": [
    "def topk(X,k):\n",
    "    distances = euclidean_distances(X,X)\n",
    "    rows = len(distances)\n",
    "    cols = len(distances[0])\n",
    "    mindist = 1e6\n",
    "    topK = [(0,0,0)]\n",
    "    K = 0\n",
    "    while K < k:\n",
    "        for r in range(rows):\n",
    "            for c in range(cols):\n",
    "                d = distances[r][c]\n",
    "                if d < mindist and d!=0 and d > topK[K][2]:\n",
    "                    mindist = d\n",
    "                    smallest = (r,c,mindist)\n",
    "                    \n",
    "        ro,co,di = smallest[0],smallest[1],smallest[2]\n",
    "        if ((co,ro,di) not in topK) and ((ro,co,di) not in topK):\n",
    "            topK.append(smallest)\n",
    "            K += 1\n",
    "    return topK"
   ]
  },
  {
   "cell_type": "code",
   "execution_count": 22,
   "metadata": {
    "collapsed": true
   },
   "outputs": [],
   "source": [
    "def topk(X,k):\n",
    "    X = csr_matrix(X)\n",
    "    \n",
    "    print \"calculating distances...\"\n",
    "    distances = coo_matrix(euclidean_distances(X,X))\n",
    "    print \"assembling tuples...\"\n",
    "    \n",
    "    tuples = izip(distances.row, distances.col, distances.data)\n",
    "    #tup_sort = sorted(tuples, key=lambda x: (x[2]))\n",
    "    dtype = [('row',int),('col',int),('dist',float)]\n",
    "    values = [x for x in tuples]\n",
    "    arr = np.array(values,dtype=dtype)\n",
    "    \n",
    "    print 'sorting matrix...'\n",
    "    sorted = np.sort(arr,order='dist')\n",
    "    print 'done sorting'\n",
    "    \n",
    "    # now get the first k unique elements from tup_sort\n",
    "    topk = []\n",
    "    i, skips = 0,0\n",
    "    while i < (k+skips):\n",
    "        if i > 0 and (tup_sort[i][0] == aaa[i-1][1])\\\n",
    "                and (tup_sort[i][1] == tup_sort[i-1][0]):\n",
    "            skips += 1\n",
    "            i += 1\n",
    "        else:\n",
    "            topk.append(tup_sort[i])\n",
    "            i += 1\n",
    "    return topk"
   ]
  },
  {
   "cell_type": "markdown",
   "metadata": {
    "collapsed": true
   },
   "source": [
    "## PART 3 - Classification Experiment"
   ]
  },
  {
   "cell_type": "markdown",
   "metadata": {
    "collapsed": true
   },
   "source": [
    "Split each design matrix into an 80% - 20% training set - test set split."
   ]
  },
  {
   "cell_type": "code",
   "execution_count": 30,
   "metadata": {
    "collapsed": false
   },
   "outputs": [],
   "source": [
    "from sklearn.cross_validation import train_test_split\n",
    "from sklearn.model_selection import cross_val_score\n",
    "from sklearn import svm\n",
    "from random import uniform"
   ]
  },
  {
   "cell_type": "code",
   "execution_count": 151,
   "metadata": {
    "collapsed": false
   },
   "outputs": [],
   "source": [
    "Y = sentiments_train\n",
    "\n",
    "X_counts_train, X_counts_test, y_train, y_test = train_test_split(X_counts, Y, train_size = 0.8, random_state=0)\n",
    "X_binary_train, X_binary_test, y_train, y_test = train_test_split(X_binary, Y, train_size = 0.8, random_state=0)\n",
    "X_tfidf_train, X_tfidf_test, y_train, y_test = train_test_split(X_tfidf, Y, train_size = 0.8, random_state=0)\n",
    "X_BI_train, X_BI_test, y_BI_train, y_BI_test = train_test_split(X_binary_imbalance, Y_binary_imbalance, train_size = 0.8, random_state=0)"
   ]
  },
  {
   "cell_type": "markdown",
   "metadata": {},
   "source": [
    "Train a Support Vector Machine with a linear kernel, trying different values of C.\n",
    "Design matrices trained in this order:\n",
    "1) X_counts \n",
    "2) X_binary \n",
    "3) X_tfidf \n",
    "4) X_binary_imbalance"
   ]
  },
  {
   "cell_type": "code",
   "execution_count": 35,
   "metadata": {
    "collapsed": false
   },
   "outputs": [],
   "source": [
    "avgs = [] #X_counts results\n",
    "for i in range(30):\n",
    "    c = uniform(1e-4,1e4)\n",
    "    clf = svm.LinearSVC(C=c)\n",
    "    score = cross_val_score(clf, (X_counts_train), (y_train), cv=5, scoring='roc_auc').mean()\n",
    "    avgs.append((c,score))"
   ]
  },
  {
   "cell_type": "code",
   "execution_count": 55,
   "metadata": {
    "collapsed": true
   },
   "outputs": [],
   "source": [
    "binavgs = [] #X_binary results\n",
    "for i in range(30):\n",
    "    c = uniform(1e-4,1e4)\n",
    "    clf = svm.LinearSVC(C=c)\n",
    "    score = cross_val_score(clf, (X_binary_train), (y_train), cv=5, scoring='roc_auc').mean()\n",
    "    binavgs.append((c,score))"
   ]
  },
  {
   "cell_type": "code",
   "execution_count": 56,
   "metadata": {
    "collapsed": true
   },
   "outputs": [],
   "source": [
    "tfidfavgs = [] #X_tfidf results\n",
    "for i in range(30):\n",
    "    c = uniform(1e-4,1e4)\n",
    "    clf = svm.LinearSVC(C=c)\n",
    "    score = cross_val_score(clf, (X_tfidf_train), (y_train), cv=5, scoring='roc_auc').mean()\n",
    "    tfidfavgs.append((c,score))"
   ]
  },
  {
   "cell_type": "code",
   "execution_count": 152,
   "metadata": {
    "collapsed": true
   },
   "outputs": [],
   "source": [
    "BIavgs = [] #X_binary_imbalance results\n",
    "for i in range(30):\n",
    "    c = uniform(1e-4,1e4)\n",
    "    clf = svm.LinearSVC(C=c)\n",
    "    score = cross_val_score(clf, (X_BI_train), (y_BI_train), cv=5, scoring='roc_auc').mean()\n",
    "    BIavgs.append((c,score))"
   ]
  },
  {
   "cell_type": "code",
   "execution_count": 65,
   "metadata": {
    "collapsed": false
   },
   "outputs": [],
   "source": [
    "def getBestC(matrixName,avgs):\n",
    "    maxC = 0\n",
    "    maxScore = 0\n",
    "    for c in avgs:\n",
    "        if c[1] > maxScore:\n",
    "            maxC = c[0]\n",
    "            maxScore = c[1]\n",
    "    print matrixName + \":\\n\"\n",
    "    print \"Best C value: \" + str(maxC) + \"\\nROC AUC score: \" + str(maxScore) + '\\n'"
   ]
  },
  {
   "cell_type": "markdown",
   "metadata": {},
   "source": [
    "With the experiments performed, we now have the best C value that achieved the highest ROC AUC score for each design matrix."
   ]
  },
  {
   "cell_type": "code",
   "execution_count": 153,
   "metadata": {
    "collapsed": false
   },
   "outputs": [
    {
     "name": "stdout",
     "output_type": "stream",
     "text": [
      "X_counts:\n",
      "\n",
      "Best C value: 6497.44080823\n",
      "ROC AUC score: 0.895413854694\n",
      "\n",
      "X_binary:\n",
      "\n",
      "Best C value: 6705.98625454\n",
      "ROC AUC score: 0.896784061064\n",
      "\n",
      "X_tfidf:\n",
      "\n",
      "Best C value: 482.452969091\n",
      "ROC AUC score: 0.904360115232\n",
      "\n",
      "X_binary_imbalance:\n",
      "\n",
      "Best C value: 61.7598652458\n",
      "ROC AUC score: 0.901109835463\n",
      "\n"
     ]
    }
   ],
   "source": [
    "getBestC(\"X_counts\",avgs)\n",
    "getBestC(\"X_binary\",binavgs)\n",
    "getBestC(\"X_tfidf\",tfidfavgs)\n",
    "getBestC(\"X_binary_imbalance\",BIavgs)"
   ]
  },
  {
   "cell_type": "markdown",
   "metadata": {},
   "source": [
    "With these optimal C values, each model will be retrained using the entire training data. Then a ROC curve will be generated."
   ]
  },
  {
   "cell_type": "code",
   "execution_count": 102,
   "metadata": {
    "collapsed": true
   },
   "outputs": [],
   "source": [
    "from sklearn.metrics import roc_curve, auc\n",
    "import matplotlib.pyplot as plt"
   ]
  },
  {
   "cell_type": "code",
   "execution_count": 156,
   "metadata": {
    "collapsed": false
   },
   "outputs": [],
   "source": [
    "clf = svm.LinearSVC(C=6497.44080823) #X_counts\n",
    "y_score = clf.fit(X_counts_train, y_train).decision_function(X_counts_test)\n",
    "\n",
    "# Compute ROC curve and ROC area for each class\n",
    "XCfpr, XCtpr, threshholds = roc_curve(y_test, y_score, pos_label=1)\n",
    "XCauc = auc(XCfpr, XCtpr)"
   ]
  },
  {
   "cell_type": "code",
   "execution_count": 157,
   "metadata": {
    "collapsed": true
   },
   "outputs": [],
   "source": [
    "clf = svm.LinearSVC(C=6705.98625454) #X_binary\n",
    "y_score = clf.fit(X_binary_train, y_train).decision_function(X_binary_test)\n",
    "\n",
    "# Compute ROC curve and ROC area for each class\n",
    "XBfpr, XBtpr, threshholds = roc_curve(y_test, y_score, pos_label=1)\n",
    "XBauc = auc(XBfpr, XBtpr)"
   ]
  },
  {
   "cell_type": "code",
   "execution_count": 158,
   "metadata": {
    "collapsed": true
   },
   "outputs": [],
   "source": [
    "clf = svm.LinearSVC(C=482.452969091) #X_tfidf\n",
    "y_score = clf.fit(X_tfidf_train, y_train).decision_function(X_tfidf_test)\n",
    "\n",
    "# Compute ROC curve and ROC area for each class\n",
    "XTfpr, XTtpr, threshholds = roc_curve(y_test, y_score, pos_label=1)\n",
    "XTauc = auc(XTfpr, XTtpr)"
   ]
  },
  {
   "cell_type": "code",
   "execution_count": 159,
   "metadata": {
    "collapsed": true
   },
   "outputs": [],
   "source": [
    "clf = svm.LinearSVC(C=61.7598652458) #X_binary_imbalance\n",
    "y_score = clf.fit(X_BI_train, y_BI_train).decision_function(X_BI_test)\n",
    "\n",
    "# Compute ROC curve and ROC area for each class\n",
    "XBIfpr, XBItpr, threshholds = roc_curve(y_BI_test, y_score, pos_label=1)\n",
    "XBIauc = auc(XBIfpr, XBItpr)"
   ]
  },
  {
   "cell_type": "code",
   "execution_count": 160,
   "metadata": {
    "collapsed": false
   },
   "outputs": [
    {
     "data": {
      "image/png": "[encoded data removed]",
      "text/plain": [
       "<matplotlib.figure.Figure at 0x116d1aed0>"
      ]
     },
     "metadata": {},
     "output_type": "display_data"
    }
   ],
   "source": [
    "plt.figure()\n",
    "plt.plot(XCfpr, XCtpr, label='X_counts (area = %0.4f)' % XCauc)\n",
    "plt.plot(XBfpr, XBtpr, label='X_binary (area = %0.4f)' % XBauc)\n",
    "plt.plot(XTfpr, XTtpr, label='X_tfidf (area = %0.4f)' % XTauc)\n",
    "plt.plot(XBIfpr, XBItpr,label='X_binary_imbalance (area = %0.4f)' % XBIauc)\n",
    "plt.xlabel('False Positive Rate')\n",
    "plt.ylabel('True Positive Rate')\n",
    "plt.title('ROC Curve')\n",
    "plt.legend(loc=\"lower right\")\n",
    "plt.show()"
   ]
  },
  {
   "cell_type": "markdown",
   "metadata": {},
   "source": [
    "Now, download Kaggle test data and construct the four design matrices."
   ]
  },
  {
   "cell_type": "markdown",
   "metadata": {},
   "source": [
    "Create X_counts design matrix."
   ]
  },
  {
   "cell_type": "code",
   "execution_count": 188,
   "metadata": {
    "collapsed": false
   },
   "outputs": [
    {
     "name": "stdout",
     "output_type": "stream",
     "text": [
      "(25000, 2)\n",
      "Cleaning and parsing the test set movie reviews...\n",
      "\n"
     ]
    }
   ],
   "source": [
    "test = pd.read_csv(\"testData.tsv\", header=0, delimiter=\"\\t\", \\\n",
    "                   quoting=3 )\n",
    "\n",
    "# Verify that there are 25,000 rows and 2 columns\n",
    "print test.shape\n",
    "\n",
    "# Create an empty list and append the clean reviews one by one\n",
    "num_reviews = len(test[\"review\"])\n",
    "clean_test_reviews = [] \n",
    "\n",
    "print \"Cleaning and parsing the test set movie reviews...\\n\"\n",
    "for i in xrange(0,num_reviews):\n",
    "    clean_review = review_to_words( test[\"review\"][i] )\n",
    "    clean_test_reviews.append( clean_review )\n",
    "\n",
    "# Get a bag of words for the test set, and convert to a numpy array\n",
    "test_data_features = vectorizer.transform(clean_test_reviews)\n",
    "X_countsTEST = test_data_features.toarray()"
   ]
  },
  {
   "cell_type": "markdown",
   "metadata": {},
   "source": [
    "Create X_binary design matrix."
   ]
  },
  {
   "cell_type": "code",
   "execution_count": 193,
   "metadata": {
    "collapsed": true
   },
   "outputs": [],
   "source": [
    "X_binaryTEST = []\n",
    "for review in X_countsTEST:\n",
    "    review_binary = []\n",
    "    for count in review:\n",
    "        if count > 0: \n",
    "            review_binary.append(1)\n",
    "        else:\n",
    "            review_binary.append(0)\n",
    "    X_binaryTEST.append(review_binary)"
   ]
  },
  {
   "cell_type": "markdown",
   "metadata": {},
   "source": [
    "Create X_tfidf design matrix."
   ]
  },
  {
   "cell_type": "code",
   "execution_count": 195,
   "metadata": {
    "collapsed": false
   },
   "outputs": [],
   "source": [
    "transformer = TfidfTransformer(smooth_idf=False)\n",
    "X_tfidfTEST = transformer.fit_transform(X_countsTEST)\n",
    "X_tfidfTEST = X_tfidfTEST.toarray()"
   ]
  },
  {
   "cell_type": "markdown",
   "metadata": {},
   "source": [
    "Now train each classifier with the corresponding training design matrix, and make predictions on test data."
   ]
  },
  {
   "cell_type": "code",
   "execution_count": 196,
   "metadata": {
    "collapsed": true
   },
   "outputs": [],
   "source": [
    "clf1 = svm.LinearSVC(C=6497.44080823) #X_counts\n",
    "X_countsPRED = clf1.fit(X_counts, Y).predict(X_countsTEST)\n",
    "\n",
    "clf2 = svm.LinearSVC(C=6705.98625454) #X_binary\n",
    "X_binaryPRED = clf2.fit(X_binary, Y).predict(X_binaryTEST)\n",
    "\n",
    "clf3 = svm.LinearSVC(C=482.452969091) #X_tfidf\n",
    "X_tfidfPRED = clf3.fit(X_tfidf, Y).predict(X_tfidfTEST)\n",
    "\n",
    "clf4 = svm.LinearSVC(C=61.7598652458) #X_binary_imbalance\n",
    "X_binary_imbalancePRED = clf4.fit(X_binary_imbalance, Y_binary_imbalance).predict(X_countsTEST)"
   ]
  },
  {
   "cell_type": "markdown",
   "metadata": {},
   "source": [
    "Write results to csv files."
   ]
  },
  {
   "cell_type": "code",
   "execution_count": 197,
   "metadata": {
    "collapsed": true
   },
   "outputs": [],
   "source": [
    "# Copy the results to a pandas dataframe with an \"id\" column and a \"sentiment\" column\n",
    "output1 = pd.DataFrame( data={\"id\":test[\"id\"], \"sentiment\":X_countsPRED} )\n",
    "output1.to_csv( \"X_countsPRED.csv\", index=False, quoting=3 )\n",
    "\n",
    "output2 = pd.DataFrame( data={\"id\":test[\"id\"], \"sentiment\":X_binaryPRED} )\n",
    "output2.to_csv( \"X_binaryPRED.csv\", index=False, quoting=3 )\n",
    "\n",
    "output3 = pd.DataFrame( data={\"id\":test[\"id\"], \"sentiment\":X_tfidfPRED} )\n",
    "output3.to_csv( \"X_tfidfPRED.csv\", index=False, quoting=3 )\n",
    "\n",
    "output4 = pd.DataFrame( data={\"id\":test[\"id\"], \"sentiment\":X_binary_imbalancePRED} )\n",
    "output4.to_csv( \"X_binary_imbalancePRED.csv\", index=False, quoting=3 )"
   ]
  },
  {
   "cell_type": "markdown",
   "metadata": {},
   "source": [
    "### Kaggle Scores:"
   ]
  },
  {
   "cell_type": "raw",
   "metadata": {},
   "source": [
    "X_counts - 0.80184 \n",
    "X_binary - 0.80092\n",
    "X_tfidf -  0.80440\n",
    "X_binary_imbalance - 0.79556"
   ]
  },
  {
   "cell_type": "markdown",
   "metadata": {},
   "source": [
    "All four design matrices performed very similarly - all received scores within 1% of eachother. The encoded matrix X_tfidf did attain the best performance on the kaggle test data with a score of 0.80440. This result fits expectations, since the term frequency-document frequency transform allows unique words to hold greater weight than those which are commonly used. Interestingly, the biggest improvement in lift was seen in the X_binary_imbalance design matrix, whose ROC AUC improved by 0.0195 over the X_counts matrix. This could in part be due to the binary encoding of the feature counts. We also saw X_binary and X_tfidf hold a slightly higher ROC AUC score than the original X_counts. This leads one to believe that encoding the features, if done wisely, will increase the model's prediction accuracy."
   ]
  },
  {
   "cell_type": "markdown",
   "metadata": {},
   "source": [
    "## Part 4 - Learning Curve Experiment"
   ]
  },
  {
   "cell_type": "markdown",
   "metadata": {},
   "source": [
    "Use a Logistic Regression classifer to generate a learning curve."
   ]
  },
  {
   "cell_type": "code",
   "execution_count": 202,
   "metadata": {
    "collapsed": false
   },
   "outputs": [],
   "source": [
    "from sklearn.linear_model import LogisticRegression\n",
    "from sklearn.model_selection import learning_curve\n",
    "\n",
    "estimator = LogisticRegression(random_state=0)\n",
    "n = [100, 500, 1000, 2000,3000, 4000, 5000, 7500, 10000, 15000, 20000]\n",
    "train_sizes, train_scores, test_scores = learning_curve(estimator, X_counts, Y, cv=5, train_sizes=n)"
   ]
  },
  {
   "cell_type": "code",
   "execution_count": 206,
   "metadata": {
    "collapsed": true
   },
   "outputs": [],
   "source": [
    "train_errors = [(1-np.mean(x)) for x in train_scores]\n",
    "test_errors = [(1-np.mean(y)) for y in test_scores]"
   ]
  },
  {
   "cell_type": "code",
   "execution_count": 207,
   "metadata": {
    "collapsed": false,
    "scrolled": true
   },
   "outputs": [
    {
     "data": {
      "image/png": "[encoded data removed]",
      "text/plain": [
       "<matplotlib.figure.Figure at 0x116271650>"
      ]
     },
     "metadata": {},
     "output_type": "display_data"
    }
   ],
   "source": [
    "plt.figure()\n",
    "plt.plot(train_sizes, train_errors, label='Train Error')\n",
    "plt.plot(train_sizes, test_errors, label='Test Error')\n",
    "plt.xlabel('Training Size')\n",
    "plt.ylabel('Error Rate')\n",
    "plt.title('Learning Curve')\n",
    "plt.legend(loc=\"upper right\")\n",
    "plt.show()"
   ]
  },
  {
   "cell_type": "markdown",
   "metadata": {},
   "source": [
    "We see the test error dramatically falling as the training size increases from 0 to 2000 samples. After that point, the test error curve remains relatively flat. Observing the train error curve, we notice it slowly increasing as training size largens. Looking at both the curves, a salient characteristic is the large gap between them. This is telling sign of high variance that would lead one to think an increase in training set size may alleviate some of this disparity. Alternatively, we could try diminishing the number of features in the data set. One such method could include removing the 10 most frequent words occurring in both of the sentiment classes. Overall, the Logistic Regression classifier looks to perform slightly better than did the Support Vector Machine model by about 4%."
   ]
  }
 ],
 "metadata": {
  "anaconda-cloud": {},
  "kernelspec": {
   "display_name": "Python [default]",
   "language": "python",
   "name": "python2"
  },
  "language_info": {
   "codemirror_mode": {
    "name": "ipython",
    "version": 2
   },
   "file_extension": ".py",
   "mimetype": "text/x-python",
   "name": "python",
   "nbconvert_exporter": "python",
   "pygments_lexer": "ipython2",
   "version": "2.7.12"
  }
 },
 "nbformat": 4,
 "nbformat_minor": 1
}
